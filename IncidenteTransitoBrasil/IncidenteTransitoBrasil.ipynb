{
  "nbformat": 4,
  "nbformat_minor": 0,
  "metadata": {
    "colab": {
      "provenance": [],
      "toc_visible": true,
      "collapsed_sections": [
        "NXs_bUftJk-h",
        "CqAMbzKTOklX",
        "S22fr8zIdvOj",
        "gs5IYUhOJEXO"
      ]
    },
    "kernelspec": {
      "name": "python3",
      "display_name": "Python 3"
    },
    "language_info": {
      "name": "python"
    }
  },
  "cells": [
    {
      "cell_type": "code",
      "execution_count": null,
      "metadata": {
        "id": "aL-e0_HnORyS"
      },
      "outputs": [],
      "source": [
        "import pandas as pd #importar bibliotecas\n",
        "import numpy as np"
      ]
    },
    {
      "cell_type": "markdown",
      "source": [
        "Mounted at /content/gdrive"
      ],
      "metadata": {
        "id": "VrUGsG6rPz19"
      }
    },
    {
      "cell_type": "code",
      "source": [
        "from google.colab import drive #importar do drive"
      ],
      "metadata": {
        "id": "4fu-9iirPftO"
      },
      "execution_count": null,
      "outputs": []
    },
    {
      "cell_type": "code",
      "source": [
        "drive.mount('/content/gdrive') #chamada do google drive"
      ],
      "metadata": {
        "colab": {
          "base_uri": "https://localhost:8080/"
        },
        "id": "DzhyyKeYPeTZ",
        "outputId": "1b3a1a7a-0180-43ce-fffa-ce077cbad6de"
      },
      "execution_count": null,
      "outputs": [
        {
          "output_type": "stream",
          "name": "stdout",
          "text": [
            "Mounted at /content/gdrive\n"
          ]
        }
      ]
    },
    {
      "cell_type": "code",
      "source": [
        "from google.colab import files #importar arquivo para colab\n",
        "uploaded =  files.upload() #fazer upload do arquivo"
      ],
      "metadata": {
        "id": "0Z6S9Z1RP1tA",
        "colab": {
          "base_uri": "https://localhost:8080/",
          "height": 38
        },
        "outputId": "1abb388a-e45b-4c43-fc0c-de787a2f4b96"
      },
      "execution_count": null,
      "outputs": [
        {
          "output_type": "display_data",
          "data": {
            "text/plain": [
              "<IPython.core.display.HTML object>"
            ],
            "text/html": [
              "\n",
              "     <input type=\"file\" id=\"files-bd52a326-fe65-4659-86a7-34bd50e89b69\" name=\"files[]\" multiple disabled\n",
              "        style=\"border:none\" />\n",
              "     <output id=\"result-bd52a326-fe65-4659-86a7-34bd50e89b69\">\n",
              "      Upload widget is only available when the cell has been executed in the\n",
              "      current browser session. Please rerun this cell to enable.\n",
              "      </output>\n",
              "      <script>// Copyright 2017 Google LLC\n",
              "//\n",
              "// Licensed under the Apache License, Version 2.0 (the \"License\");\n",
              "// you may not use this file except in compliance with the License.\n",
              "// You may obtain a copy of the License at\n",
              "//\n",
              "//      http://www.apache.org/licenses/LICENSE-2.0\n",
              "//\n",
              "// Unless required by applicable law or agreed to in writing, software\n",
              "// distributed under the License is distributed on an \"AS IS\" BASIS,\n",
              "// WITHOUT WARRANTIES OR CONDITIONS OF ANY KIND, either express or implied.\n",
              "// See the License for the specific language governing permissions and\n",
              "// limitations under the License.\n",
              "\n",
              "/**\n",
              " * @fileoverview Helpers for google.colab Python module.\n",
              " */\n",
              "(function(scope) {\n",
              "function span(text, styleAttributes = {}) {\n",
              "  const element = document.createElement('span');\n",
              "  element.textContent = text;\n",
              "  for (const key of Object.keys(styleAttributes)) {\n",
              "    element.style[key] = styleAttributes[key];\n",
              "  }\n",
              "  return element;\n",
              "}\n",
              "\n",
              "// Max number of bytes which will be uploaded at a time.\n",
              "const MAX_PAYLOAD_SIZE = 100 * 1024;\n",
              "\n",
              "function _uploadFiles(inputId, outputId) {\n",
              "  const steps = uploadFilesStep(inputId, outputId);\n",
              "  const outputElement = document.getElementById(outputId);\n",
              "  // Cache steps on the outputElement to make it available for the next call\n",
              "  // to uploadFilesContinue from Python.\n",
              "  outputElement.steps = steps;\n",
              "\n",
              "  return _uploadFilesContinue(outputId);\n",
              "}\n",
              "\n",
              "// This is roughly an async generator (not supported in the browser yet),\n",
              "// where there are multiple asynchronous steps and the Python side is going\n",
              "// to poll for completion of each step.\n",
              "// This uses a Promise to block the python side on completion of each step,\n",
              "// then passes the result of the previous step as the input to the next step.\n",
              "function _uploadFilesContinue(outputId) {\n",
              "  const outputElement = document.getElementById(outputId);\n",
              "  const steps = outputElement.steps;\n",
              "\n",
              "  const next = steps.next(outputElement.lastPromiseValue);\n",
              "  return Promise.resolve(next.value.promise).then((value) => {\n",
              "    // Cache the last promise value to make it available to the next\n",
              "    // step of the generator.\n",
              "    outputElement.lastPromiseValue = value;\n",
              "    return next.value.response;\n",
              "  });\n",
              "}\n",
              "\n",
              "/**\n",
              " * Generator function which is called between each async step of the upload\n",
              " * process.\n",
              " * @param {string} inputId Element ID of the input file picker element.\n",
              " * @param {string} outputId Element ID of the output display.\n",
              " * @return {!Iterable<!Object>} Iterable of next steps.\n",
              " */\n",
              "function* uploadFilesStep(inputId, outputId) {\n",
              "  const inputElement = document.getElementById(inputId);\n",
              "  inputElement.disabled = false;\n",
              "\n",
              "  const outputElement = document.getElementById(outputId);\n",
              "  outputElement.innerHTML = '';\n",
              "\n",
              "  const pickedPromise = new Promise((resolve) => {\n",
              "    inputElement.addEventListener('change', (e) => {\n",
              "      resolve(e.target.files);\n",
              "    });\n",
              "  });\n",
              "\n",
              "  const cancel = document.createElement('button');\n",
              "  inputElement.parentElement.appendChild(cancel);\n",
              "  cancel.textContent = 'Cancel upload';\n",
              "  const cancelPromise = new Promise((resolve) => {\n",
              "    cancel.onclick = () => {\n",
              "      resolve(null);\n",
              "    };\n",
              "  });\n",
              "\n",
              "  // Wait for the user to pick the files.\n",
              "  const files = yield {\n",
              "    promise: Promise.race([pickedPromise, cancelPromise]),\n",
              "    response: {\n",
              "      action: 'starting',\n",
              "    }\n",
              "  };\n",
              "\n",
              "  cancel.remove();\n",
              "\n",
              "  // Disable the input element since further picks are not allowed.\n",
              "  inputElement.disabled = true;\n",
              "\n",
              "  if (!files) {\n",
              "    return {\n",
              "      response: {\n",
              "        action: 'complete',\n",
              "      }\n",
              "    };\n",
              "  }\n",
              "\n",
              "  for (const file of files) {\n",
              "    const li = document.createElement('li');\n",
              "    li.append(span(file.name, {fontWeight: 'bold'}));\n",
              "    li.append(span(\n",
              "        `(${file.type || 'n/a'}) - ${file.size} bytes, ` +\n",
              "        `last modified: ${\n",
              "            file.lastModifiedDate ? file.lastModifiedDate.toLocaleDateString() :\n",
              "                                    'n/a'} - `));\n",
              "    const percent = span('0% done');\n",
              "    li.appendChild(percent);\n",
              "\n",
              "    outputElement.appendChild(li);\n",
              "\n",
              "    const fileDataPromise = new Promise((resolve) => {\n",
              "      const reader = new FileReader();\n",
              "      reader.onload = (e) => {\n",
              "        resolve(e.target.result);\n",
              "      };\n",
              "      reader.readAsArrayBuffer(file);\n",
              "    });\n",
              "    // Wait for the data to be ready.\n",
              "    let fileData = yield {\n",
              "      promise: fileDataPromise,\n",
              "      response: {\n",
              "        action: 'continue',\n",
              "      }\n",
              "    };\n",
              "\n",
              "    // Use a chunked sending to avoid message size limits. See b/62115660.\n",
              "    let position = 0;\n",
              "    do {\n",
              "      const length = Math.min(fileData.byteLength - position, MAX_PAYLOAD_SIZE);\n",
              "      const chunk = new Uint8Array(fileData, position, length);\n",
              "      position += length;\n",
              "\n",
              "      const base64 = btoa(String.fromCharCode.apply(null, chunk));\n",
              "      yield {\n",
              "        response: {\n",
              "          action: 'append',\n",
              "          file: file.name,\n",
              "          data: base64,\n",
              "        },\n",
              "      };\n",
              "\n",
              "      let percentDone = fileData.byteLength === 0 ?\n",
              "          100 :\n",
              "          Math.round((position / fileData.byteLength) * 100);\n",
              "      percent.textContent = `${percentDone}% done`;\n",
              "\n",
              "    } while (position < fileData.byteLength);\n",
              "  }\n",
              "\n",
              "  // All done.\n",
              "  yield {\n",
              "    response: {\n",
              "      action: 'complete',\n",
              "    }\n",
              "  };\n",
              "}\n",
              "\n",
              "scope.google = scope.google || {};\n",
              "scope.google.colab = scope.google.colab || {};\n",
              "scope.google.colab._files = {\n",
              "  _uploadFiles,\n",
              "  _uploadFilesContinue,\n",
              "};\n",
              "})(self);\n",
              "</script> "
            ]
          },
          "metadata": {}
        }
      ]
    },
    {
      "cell_type": "markdown",
      "source": [
        "# Dataset"
      ],
      "metadata": {
        "id": "NXs_bUftJk-h"
      }
    },
    {
      "cell_type": "code",
      "source": [
        "transito =  pd.read_csv('/content/gdrive/MyDrive/Colab Notebooks/Dados_PRF_2023.csv', encoding = \"utf-8\")\n",
        "transito.head(10)"
      ],
      "metadata": {
        "colab": {
          "base_uri": "https://localhost:8080/",
          "height": 760
        },
        "id": "BRXMRcReQDYG",
        "outputId": "cca166b9-beb9-46c2-8143-0621a56077a0"
      },
      "execution_count": null,
      "outputs": [
        {
          "output_type": "execute_result",
          "data": {
            "text/plain": [
              "       id data_inversa dia_semana   horario  uf     br     km  \\\n",
              "0  496519   2023-01-01    domingo  02:00:00  ES  101.0    114   \n",
              "1  496543   2023-01-01    domingo  03:40:00  SP  116.0  113,1   \n",
              "2  496590   2023-01-01    domingo  01:40:00  MT  163.0   1112   \n",
              "3  496610   2023-01-01    domingo  10:40:00  PR  376.0  314,8   \n",
              "4  496659   2023-01-01    domingo  14:55:00  MG  116.0  569,4   \n",
              "5  496671   2023-01-01    domingo  15:45:00  MG  262.0  569,8   \n",
              "6  496673   2023-01-01    domingo  18:10:00  PR  116.0    152   \n",
              "7  496686   2023-01-01    domingo  20:00:00  MG  381.0  897,3   \n",
              "8  496709   2023-01-01    domingo  21:54:00  SP  116.0  105,5   \n",
              "9  496711   2023-01-01    domingo  21:50:00  BA  116.0    366   \n",
              "\n",
              "           municipio                            causa_acidente  \\\n",
              "0          SOORETAMA            Ausência de reação do condutor   \n",
              "1            TAUBATE             Entrada inopinada do pedestre   \n",
              "2  GUARANTA DO NORTE  Reação tardia ou ineficiente do condutor   \n",
              "3         ORTIGUEIRA                   Velocidade Incompatível   \n",
              "4           MANHUACU         Acumulo de água sobre o pavimento   \n",
              "5      CORREGO DANTA                         Condutor Dormindo   \n",
              "6        MANDIRITUBA  Desrespeitar a preferência no cruzamento   \n",
              "7             CAMBUI      Demais falhas mecânicas ou elétricas   \n",
              "8            TAUBATE                    Transitar na contramão   \n",
              "9           SERRINHA                   Velocidade Incompatível   \n",
              "\n",
              "                   tipo_acidente  ... feridos_graves ilesos ignorados feridos  \\\n",
              "0      Saída de leito carroçável  ...              0      0         0       1   \n",
              "1      Atropelamento de Pedestre  ...              0      0         4       0   \n",
              "2                     Tombamento  ...              1      0         0       1   \n",
              "3                     Tombamento  ...              0      1         0       0   \n",
              "4                Colisão frontal  ...              2      1         0       2   \n",
              "5      Saída de leito carroçável  ...              0      1         0       0   \n",
              "6            Colisão transversal  ...              0      3         0       1   \n",
              "7                       Incêndio  ...              0      1         0       0   \n",
              "8  Colisão lateral mesmo sentido  ...              0      1         1       2   \n",
              "9               Colisão traseira  ...              0      2         0       0   \n",
              "\n",
              "  veiculos      latitude     longitude  regional  delegacia             uop  \n",
              "0        1  -19,09484877  -40,05095848   SPRF-ES   DEL04-ES  UOP01-DEL04-ES  \n",
              "1        1   -23,0445658  -45,58259814   SPRF-SP   DEL02-SP  UOP02-DEL02-SP  \n",
              "2        1   -9,70020602  -54,87588757   SPRF-MT   DEL06-MT  UOP03-DEL06-MT  \n",
              "3        1    -23,985512    -51,083555   SPRF-PR   DEL07-PR  UOP02-DEL07-PR  \n",
              "4        2  -20,10007457  -42,17884091   SPRF-MG   DEL06-MG  UOP03-DEL06-MG  \n",
              "5        1    -19,716043    -46,021922   SPRF-MG   DEL08-MG  UOP02-DEL08-MG  \n",
              "6        3    -25,862553    -49,362008   SPRF-PR   DEL01-PR  UOP03-DEL01-PR  \n",
              "7        1  -22,63961103  -46,08077997   SPRF-MG   DEL16-MG  UOP03-DEL16-MG  \n",
              "8        3  -23,00757973  -45,51466613   SPRF-SP   DEL02-SP  UOP02-DEL02-SP  \n",
              "9        2     -11,72514  -38,98642914   SPRF-BA   DEL02-BA  UOP01-DEL02-BA  \n",
              "\n",
              "[10 rows x 30 columns]"
            ],
            "text/html": [
              "\n",
              "  <div id=\"df-1d7586dd-d49e-4cc6-b4ac-053643676112\" class=\"colab-df-container\">\n",
              "    <div>\n",
              "<style scoped>\n",
              "    .dataframe tbody tr th:only-of-type {\n",
              "        vertical-align: middle;\n",
              "    }\n",
              "\n",
              "    .dataframe tbody tr th {\n",
              "        vertical-align: top;\n",
              "    }\n",
              "\n",
              "    .dataframe thead th {\n",
              "        text-align: right;\n",
              "    }\n",
              "</style>\n",
              "<table border=\"1\" class=\"dataframe\">\n",
              "  <thead>\n",
              "    <tr style=\"text-align: right;\">\n",
              "      <th></th>\n",
              "      <th>id</th>\n",
              "      <th>data_inversa</th>\n",
              "      <th>dia_semana</th>\n",
              "      <th>horario</th>\n",
              "      <th>uf</th>\n",
              "      <th>br</th>\n",
              "      <th>km</th>\n",
              "      <th>municipio</th>\n",
              "      <th>causa_acidente</th>\n",
              "      <th>tipo_acidente</th>\n",
              "      <th>...</th>\n",
              "      <th>feridos_graves</th>\n",
              "      <th>ilesos</th>\n",
              "      <th>ignorados</th>\n",
              "      <th>feridos</th>\n",
              "      <th>veiculos</th>\n",
              "      <th>latitude</th>\n",
              "      <th>longitude</th>\n",
              "      <th>regional</th>\n",
              "      <th>delegacia</th>\n",
              "      <th>uop</th>\n",
              "    </tr>\n",
              "  </thead>\n",
              "  <tbody>\n",
              "    <tr>\n",
              "      <th>0</th>\n",
              "      <td>496519</td>\n",
              "      <td>2023-01-01</td>\n",
              "      <td>domingo</td>\n",
              "      <td>02:00:00</td>\n",
              "      <td>ES</td>\n",
              "      <td>101.0</td>\n",
              "      <td>114</td>\n",
              "      <td>SOORETAMA</td>\n",
              "      <td>Ausência de reação do condutor</td>\n",
              "      <td>Saída de leito carroçável</td>\n",
              "      <td>...</td>\n",
              "      <td>0</td>\n",
              "      <td>0</td>\n",
              "      <td>0</td>\n",
              "      <td>1</td>\n",
              "      <td>1</td>\n",
              "      <td>-19,09484877</td>\n",
              "      <td>-40,05095848</td>\n",
              "      <td>SPRF-ES</td>\n",
              "      <td>DEL04-ES</td>\n",
              "      <td>UOP01-DEL04-ES</td>\n",
              "    </tr>\n",
              "    <tr>\n",
              "      <th>1</th>\n",
              "      <td>496543</td>\n",
              "      <td>2023-01-01</td>\n",
              "      <td>domingo</td>\n",
              "      <td>03:40:00</td>\n",
              "      <td>SP</td>\n",
              "      <td>116.0</td>\n",
              "      <td>113,1</td>\n",
              "      <td>TAUBATE</td>\n",
              "      <td>Entrada inopinada do pedestre</td>\n",
              "      <td>Atropelamento de Pedestre</td>\n",
              "      <td>...</td>\n",
              "      <td>0</td>\n",
              "      <td>0</td>\n",
              "      <td>4</td>\n",
              "      <td>0</td>\n",
              "      <td>1</td>\n",
              "      <td>-23,0445658</td>\n",
              "      <td>-45,58259814</td>\n",
              "      <td>SPRF-SP</td>\n",
              "      <td>DEL02-SP</td>\n",
              "      <td>UOP02-DEL02-SP</td>\n",
              "    </tr>\n",
              "    <tr>\n",
              "      <th>2</th>\n",
              "      <td>496590</td>\n",
              "      <td>2023-01-01</td>\n",
              "      <td>domingo</td>\n",
              "      <td>01:40:00</td>\n",
              "      <td>MT</td>\n",
              "      <td>163.0</td>\n",
              "      <td>1112</td>\n",
              "      <td>GUARANTA DO NORTE</td>\n",
              "      <td>Reação tardia ou ineficiente do condutor</td>\n",
              "      <td>Tombamento</td>\n",
              "      <td>...</td>\n",
              "      <td>1</td>\n",
              "      <td>0</td>\n",
              "      <td>0</td>\n",
              "      <td>1</td>\n",
              "      <td>1</td>\n",
              "      <td>-9,70020602</td>\n",
              "      <td>-54,87588757</td>\n",
              "      <td>SPRF-MT</td>\n",
              "      <td>DEL06-MT</td>\n",
              "      <td>UOP03-DEL06-MT</td>\n",
              "    </tr>\n",
              "    <tr>\n",
              "      <th>3</th>\n",
              "      <td>496610</td>\n",
              "      <td>2023-01-01</td>\n",
              "      <td>domingo</td>\n",
              "      <td>10:40:00</td>\n",
              "      <td>PR</td>\n",
              "      <td>376.0</td>\n",
              "      <td>314,8</td>\n",
              "      <td>ORTIGUEIRA</td>\n",
              "      <td>Velocidade Incompatível</td>\n",
              "      <td>Tombamento</td>\n",
              "      <td>...</td>\n",
              "      <td>0</td>\n",
              "      <td>1</td>\n",
              "      <td>0</td>\n",
              "      <td>0</td>\n",
              "      <td>1</td>\n",
              "      <td>-23,985512</td>\n",
              "      <td>-51,083555</td>\n",
              "      <td>SPRF-PR</td>\n",
              "      <td>DEL07-PR</td>\n",
              "      <td>UOP02-DEL07-PR</td>\n",
              "    </tr>\n",
              "    <tr>\n",
              "      <th>4</th>\n",
              "      <td>496659</td>\n",
              "      <td>2023-01-01</td>\n",
              "      <td>domingo</td>\n",
              "      <td>14:55:00</td>\n",
              "      <td>MG</td>\n",
              "      <td>116.0</td>\n",
              "      <td>569,4</td>\n",
              "      <td>MANHUACU</td>\n",
              "      <td>Acumulo de água sobre o pavimento</td>\n",
              "      <td>Colisão frontal</td>\n",
              "      <td>...</td>\n",
              "      <td>2</td>\n",
              "      <td>1</td>\n",
              "      <td>0</td>\n",
              "      <td>2</td>\n",
              "      <td>2</td>\n",
              "      <td>-20,10007457</td>\n",
              "      <td>-42,17884091</td>\n",
              "      <td>SPRF-MG</td>\n",
              "      <td>DEL06-MG</td>\n",
              "      <td>UOP03-DEL06-MG</td>\n",
              "    </tr>\n",
              "    <tr>\n",
              "      <th>5</th>\n",
              "      <td>496671</td>\n",
              "      <td>2023-01-01</td>\n",
              "      <td>domingo</td>\n",
              "      <td>15:45:00</td>\n",
              "      <td>MG</td>\n",
              "      <td>262.0</td>\n",
              "      <td>569,8</td>\n",
              "      <td>CORREGO DANTA</td>\n",
              "      <td>Condutor Dormindo</td>\n",
              "      <td>Saída de leito carroçável</td>\n",
              "      <td>...</td>\n",
              "      <td>0</td>\n",
              "      <td>1</td>\n",
              "      <td>0</td>\n",
              "      <td>0</td>\n",
              "      <td>1</td>\n",
              "      <td>-19,716043</td>\n",
              "      <td>-46,021922</td>\n",
              "      <td>SPRF-MG</td>\n",
              "      <td>DEL08-MG</td>\n",
              "      <td>UOP02-DEL08-MG</td>\n",
              "    </tr>\n",
              "    <tr>\n",
              "      <th>6</th>\n",
              "      <td>496673</td>\n",
              "      <td>2023-01-01</td>\n",
              "      <td>domingo</td>\n",
              "      <td>18:10:00</td>\n",
              "      <td>PR</td>\n",
              "      <td>116.0</td>\n",
              "      <td>152</td>\n",
              "      <td>MANDIRITUBA</td>\n",
              "      <td>Desrespeitar a preferência no cruzamento</td>\n",
              "      <td>Colisão transversal</td>\n",
              "      <td>...</td>\n",
              "      <td>0</td>\n",
              "      <td>3</td>\n",
              "      <td>0</td>\n",
              "      <td>1</td>\n",
              "      <td>3</td>\n",
              "      <td>-25,862553</td>\n",
              "      <td>-49,362008</td>\n",
              "      <td>SPRF-PR</td>\n",
              "      <td>DEL01-PR</td>\n",
              "      <td>UOP03-DEL01-PR</td>\n",
              "    </tr>\n",
              "    <tr>\n",
              "      <th>7</th>\n",
              "      <td>496686</td>\n",
              "      <td>2023-01-01</td>\n",
              "      <td>domingo</td>\n",
              "      <td>20:00:00</td>\n",
              "      <td>MG</td>\n",
              "      <td>381.0</td>\n",
              "      <td>897,3</td>\n",
              "      <td>CAMBUI</td>\n",
              "      <td>Demais falhas mecânicas ou elétricas</td>\n",
              "      <td>Incêndio</td>\n",
              "      <td>...</td>\n",
              "      <td>0</td>\n",
              "      <td>1</td>\n",
              "      <td>0</td>\n",
              "      <td>0</td>\n",
              "      <td>1</td>\n",
              "      <td>-22,63961103</td>\n",
              "      <td>-46,08077997</td>\n",
              "      <td>SPRF-MG</td>\n",
              "      <td>DEL16-MG</td>\n",
              "      <td>UOP03-DEL16-MG</td>\n",
              "    </tr>\n",
              "    <tr>\n",
              "      <th>8</th>\n",
              "      <td>496709</td>\n",
              "      <td>2023-01-01</td>\n",
              "      <td>domingo</td>\n",
              "      <td>21:54:00</td>\n",
              "      <td>SP</td>\n",
              "      <td>116.0</td>\n",
              "      <td>105,5</td>\n",
              "      <td>TAUBATE</td>\n",
              "      <td>Transitar na contramão</td>\n",
              "      <td>Colisão lateral mesmo sentido</td>\n",
              "      <td>...</td>\n",
              "      <td>0</td>\n",
              "      <td>1</td>\n",
              "      <td>1</td>\n",
              "      <td>2</td>\n",
              "      <td>3</td>\n",
              "      <td>-23,00757973</td>\n",
              "      <td>-45,51466613</td>\n",
              "      <td>SPRF-SP</td>\n",
              "      <td>DEL02-SP</td>\n",
              "      <td>UOP02-DEL02-SP</td>\n",
              "    </tr>\n",
              "    <tr>\n",
              "      <th>9</th>\n",
              "      <td>496711</td>\n",
              "      <td>2023-01-01</td>\n",
              "      <td>domingo</td>\n",
              "      <td>21:50:00</td>\n",
              "      <td>BA</td>\n",
              "      <td>116.0</td>\n",
              "      <td>366</td>\n",
              "      <td>SERRINHA</td>\n",
              "      <td>Velocidade Incompatível</td>\n",
              "      <td>Colisão traseira</td>\n",
              "      <td>...</td>\n",
              "      <td>0</td>\n",
              "      <td>2</td>\n",
              "      <td>0</td>\n",
              "      <td>0</td>\n",
              "      <td>2</td>\n",
              "      <td>-11,72514</td>\n",
              "      <td>-38,98642914</td>\n",
              "      <td>SPRF-BA</td>\n",
              "      <td>DEL02-BA</td>\n",
              "      <td>UOP01-DEL02-BA</td>\n",
              "    </tr>\n",
              "  </tbody>\n",
              "</table>\n",
              "<p>10 rows × 30 columns</p>\n",
              "</div>\n",
              "    <div class=\"colab-df-buttons\">\n",
              "\n",
              "  <div class=\"colab-df-container\">\n",
              "    <button class=\"colab-df-convert\" onclick=\"convertToInteractive('df-1d7586dd-d49e-4cc6-b4ac-053643676112')\"\n",
              "            title=\"Convert this dataframe to an interactive table.\"\n",
              "            style=\"display:none;\">\n",
              "\n",
              "  <svg xmlns=\"http://www.w3.org/2000/svg\" height=\"24px\" viewBox=\"0 -960 960 960\">\n",
              "    <path d=\"M120-120v-720h720v720H120Zm60-500h600v-160H180v160Zm220 220h160v-160H400v160Zm0 220h160v-160H400v160ZM180-400h160v-160H180v160Zm440 0h160v-160H620v160ZM180-180h160v-160H180v160Zm440 0h160v-160H620v160Z\"/>\n",
              "  </svg>\n",
              "    </button>\n",
              "\n",
              "  <style>\n",
              "    .colab-df-container {\n",
              "      display:flex;\n",
              "      gap: 12px;\n",
              "    }\n",
              "\n",
              "    .colab-df-convert {\n",
              "      background-color: #E8F0FE;\n",
              "      border: none;\n",
              "      border-radius: 50%;\n",
              "      cursor: pointer;\n",
              "      display: none;\n",
              "      fill: #1967D2;\n",
              "      height: 32px;\n",
              "      padding: 0 0 0 0;\n",
              "      width: 32px;\n",
              "    }\n",
              "\n",
              "    .colab-df-convert:hover {\n",
              "      background-color: #E2EBFA;\n",
              "      box-shadow: 0px 1px 2px rgba(60, 64, 67, 0.3), 0px 1px 3px 1px rgba(60, 64, 67, 0.15);\n",
              "      fill: #174EA6;\n",
              "    }\n",
              "\n",
              "    .colab-df-buttons div {\n",
              "      margin-bottom: 4px;\n",
              "    }\n",
              "\n",
              "    [theme=dark] .colab-df-convert {\n",
              "      background-color: #3B4455;\n",
              "      fill: #D2E3FC;\n",
              "    }\n",
              "\n",
              "    [theme=dark] .colab-df-convert:hover {\n",
              "      background-color: #434B5C;\n",
              "      box-shadow: 0px 1px 3px 1px rgba(0, 0, 0, 0.15);\n",
              "      filter: drop-shadow(0px 1px 2px rgba(0, 0, 0, 0.3));\n",
              "      fill: #FFFFFF;\n",
              "    }\n",
              "  </style>\n",
              "\n",
              "    <script>\n",
              "      const buttonEl =\n",
              "        document.querySelector('#df-1d7586dd-d49e-4cc6-b4ac-053643676112 button.colab-df-convert');\n",
              "      buttonEl.style.display =\n",
              "        google.colab.kernel.accessAllowed ? 'block' : 'none';\n",
              "\n",
              "      async function convertToInteractive(key) {\n",
              "        const element = document.querySelector('#df-1d7586dd-d49e-4cc6-b4ac-053643676112');\n",
              "        const dataTable =\n",
              "          await google.colab.kernel.invokeFunction('convertToInteractive',\n",
              "                                                    [key], {});\n",
              "        if (!dataTable) return;\n",
              "\n",
              "        const docLinkHtml = 'Like what you see? Visit the ' +\n",
              "          '<a target=\"_blank\" href=https://colab.research.google.com/notebooks/data_table.ipynb>data table notebook</a>'\n",
              "          + ' to learn more about interactive tables.';\n",
              "        element.innerHTML = '';\n",
              "        dataTable['output_type'] = 'display_data';\n",
              "        await google.colab.output.renderOutput(dataTable, element);\n",
              "        const docLink = document.createElement('div');\n",
              "        docLink.innerHTML = docLinkHtml;\n",
              "        element.appendChild(docLink);\n",
              "      }\n",
              "    </script>\n",
              "  </div>\n",
              "\n",
              "\n",
              "<div id=\"df-54f67b66-8436-4765-9df4-51010d2f16b5\">\n",
              "  <button class=\"colab-df-quickchart\" onclick=\"quickchart('df-54f67b66-8436-4765-9df4-51010d2f16b5')\"\n",
              "            title=\"Suggest charts\"\n",
              "            style=\"display:none;\">\n",
              "\n",
              "<svg xmlns=\"http://www.w3.org/2000/svg\" height=\"24px\"viewBox=\"0 0 24 24\"\n",
              "     width=\"24px\">\n",
              "    <g>\n",
              "        <path d=\"M19 3H5c-1.1 0-2 .9-2 2v14c0 1.1.9 2 2 2h14c1.1 0 2-.9 2-2V5c0-1.1-.9-2-2-2zM9 17H7v-7h2v7zm4 0h-2V7h2v10zm4 0h-2v-4h2v4z\"/>\n",
              "    </g>\n",
              "</svg>\n",
              "  </button>\n",
              "\n",
              "<style>\n",
              "  .colab-df-quickchart {\n",
              "      --bg-color: #E8F0FE;\n",
              "      --fill-color: #1967D2;\n",
              "      --hover-bg-color: #E2EBFA;\n",
              "      --hover-fill-color: #174EA6;\n",
              "      --disabled-fill-color: #AAA;\n",
              "      --disabled-bg-color: #DDD;\n",
              "  }\n",
              "\n",
              "  [theme=dark] .colab-df-quickchart {\n",
              "      --bg-color: #3B4455;\n",
              "      --fill-color: #D2E3FC;\n",
              "      --hover-bg-color: #434B5C;\n",
              "      --hover-fill-color: #FFFFFF;\n",
              "      --disabled-bg-color: #3B4455;\n",
              "      --disabled-fill-color: #666;\n",
              "  }\n",
              "\n",
              "  .colab-df-quickchart {\n",
              "    background-color: var(--bg-color);\n",
              "    border: none;\n",
              "    border-radius: 50%;\n",
              "    cursor: pointer;\n",
              "    display: none;\n",
              "    fill: var(--fill-color);\n",
              "    height: 32px;\n",
              "    padding: 0;\n",
              "    width: 32px;\n",
              "  }\n",
              "\n",
              "  .colab-df-quickchart:hover {\n",
              "    background-color: var(--hover-bg-color);\n",
              "    box-shadow: 0 1px 2px rgba(60, 64, 67, 0.3), 0 1px 3px 1px rgba(60, 64, 67, 0.15);\n",
              "    fill: var(--button-hover-fill-color);\n",
              "  }\n",
              "\n",
              "  .colab-df-quickchart-complete:disabled,\n",
              "  .colab-df-quickchart-complete:disabled:hover {\n",
              "    background-color: var(--disabled-bg-color);\n",
              "    fill: var(--disabled-fill-color);\n",
              "    box-shadow: none;\n",
              "  }\n",
              "\n",
              "  .colab-df-spinner {\n",
              "    border: 2px solid var(--fill-color);\n",
              "    border-color: transparent;\n",
              "    border-bottom-color: var(--fill-color);\n",
              "    animation:\n",
              "      spin 1s steps(1) infinite;\n",
              "  }\n",
              "\n",
              "  @keyframes spin {\n",
              "    0% {\n",
              "      border-color: transparent;\n",
              "      border-bottom-color: var(--fill-color);\n",
              "      border-left-color: var(--fill-color);\n",
              "    }\n",
              "    20% {\n",
              "      border-color: transparent;\n",
              "      border-left-color: var(--fill-color);\n",
              "      border-top-color: var(--fill-color);\n",
              "    }\n",
              "    30% {\n",
              "      border-color: transparent;\n",
              "      border-left-color: var(--fill-color);\n",
              "      border-top-color: var(--fill-color);\n",
              "      border-right-color: var(--fill-color);\n",
              "    }\n",
              "    40% {\n",
              "      border-color: transparent;\n",
              "      border-right-color: var(--fill-color);\n",
              "      border-top-color: var(--fill-color);\n",
              "    }\n",
              "    60% {\n",
              "      border-color: transparent;\n",
              "      border-right-color: var(--fill-color);\n",
              "    }\n",
              "    80% {\n",
              "      border-color: transparent;\n",
              "      border-right-color: var(--fill-color);\n",
              "      border-bottom-color: var(--fill-color);\n",
              "    }\n",
              "    90% {\n",
              "      border-color: transparent;\n",
              "      border-bottom-color: var(--fill-color);\n",
              "    }\n",
              "  }\n",
              "</style>\n",
              "\n",
              "  <script>\n",
              "    async function quickchart(key) {\n",
              "      const quickchartButtonEl =\n",
              "        document.querySelector('#' + key + ' button');\n",
              "      quickchartButtonEl.disabled = true;  // To prevent multiple clicks.\n",
              "      quickchartButtonEl.classList.add('colab-df-spinner');\n",
              "      try {\n",
              "        const charts = await google.colab.kernel.invokeFunction(\n",
              "            'suggestCharts', [key], {});\n",
              "      } catch (error) {\n",
              "        console.error('Error during call to suggestCharts:', error);\n",
              "      }\n",
              "      quickchartButtonEl.classList.remove('colab-df-spinner');\n",
              "      quickchartButtonEl.classList.add('colab-df-quickchart-complete');\n",
              "    }\n",
              "    (() => {\n",
              "      let quickchartButtonEl =\n",
              "        document.querySelector('#df-54f67b66-8436-4765-9df4-51010d2f16b5 button');\n",
              "      quickchartButtonEl.style.display =\n",
              "        google.colab.kernel.accessAllowed ? 'block' : 'none';\n",
              "    })();\n",
              "  </script>\n",
              "</div>\n",
              "    </div>\n",
              "  </div>\n"
            ],
            "application/vnd.google.colaboratory.intrinsic+json": {
              "type": "dataframe",
              "variable_name": "transito"
            }
          },
          "metadata": {},
          "execution_count": 4
        }
      ]
    },
    {
      "cell_type": "code",
      "source": [
        "#mapeamento UF -> Região\n",
        "uf_to_regiao = {\n",
        "    'AC':'Norte',\n",
        "    'AL':'Nordeste',\n",
        "    'AP':'Norte',\n",
        "    'AM':'Norte',\n",
        "    'BA':'Nordeste',\n",
        "    'CE':'Nordeste',\n",
        "    'DF':'Centro-Oeste',\n",
        "    'ES':'Sudeste',\n",
        "    'GO':'Centro-Oeste',\n",
        "    'MA':'Nordeste',\n",
        "    'MT':'Centro-Oeste',\n",
        "    'MS':'Centro-Oeste',\n",
        "    'MG':'Sudeste',\n",
        "    'PA':'Norte',\n",
        "    'PB':'Nordeste',\n",
        "    'PR':'Sul',\n",
        "    'PE':'Nordeste',\n",
        "    'PI':'Nordeste',\n",
        "    'RJ':'Sudeste',\n",
        "    'RN':'Nordeste',\n",
        "    'RS':'Sul',\n",
        "    'RO':'Norte',\n",
        "    'RR':'Norte',\n",
        "    'SC':'Sul',\n",
        "    'SP':'Sudeste',\n",
        "    'SE':'Nordeste',\n",
        "    'TO':'Norte',\n",
        "}"
      ],
      "metadata": {
        "id": "287p5LAZsyyY"
      },
      "execution_count": null,
      "outputs": []
    },
    {
      "cell_type": "code",
      "source": [
        "# Aplicando o mapeamento à coluna \"UF\"\n",
        "transito['regiao'] = transito['uf'].map(uf_to_regiao)"
      ],
      "metadata": {
        "id": "vYyClhzcuCAK"
      },
      "execution_count": null,
      "outputs": []
    },
    {
      "cell_type": "code",
      "source": [
        "# Agrupando e agregando os dados\n",
        "transito_regiao = transito.groupby(['data_inversa', 'dia_semana', 'horario','regiao', 'uf', 'municipio', 'br', 'km', 'causa_acidente', 'tipo_acidente', 'classificacao_acidente', 'fase_dia', 'sentido_via', 'condicao_metereologica', 'tipo_pista', 'tracado_via']).agg({\n",
        "    'pessoas': 'sum',  # Soma das pessoas\n",
        "    'veiculos': 'sum',  # Soma dos veículos\n",
        "    'feridos': 'sum',  # Soma dos feridos\n",
        "    'mortos': 'sum',  # Soma dos feridos\n",
        "    'feridos_leves': 'sum',  # Soma dos feridosleves\n",
        "    'feridos_graves': 'sum',  # Soma dos feridos graves\n",
        "    'ilesos': 'sum',  # Soma dos ilesos\n",
        "    'ignorados': 'sum'  # Soma dos ignorados\n",
        "}).reset_index()"
      ],
      "metadata": {
        "id": "KCUs1G1ouPAe"
      },
      "execution_count": null,
      "outputs": []
    },
    {
      "cell_type": "code",
      "source": [
        "transito_regiao.head(5)"
      ],
      "metadata": {
        "colab": {
          "base_uri": "https://localhost:8080/",
          "height": 429
        },
        "id": "1S2Hzvi_DGMI",
        "outputId": "e6592125-ec38-48e9-d3a9-18fac03e73e5"
      },
      "execution_count": null,
      "outputs": [
        {
          "output_type": "execute_result",
          "data": {
            "text/plain": [
              "  data_inversa dia_semana   horario    regiao  uf                 municipio  \\\n",
              "0   2023-01-01    domingo  00:01:00   Sudeste  MG               SETE LAGOAS   \n",
              "1   2023-01-01    domingo  00:15:00   Sudeste  MG                  MANHUACU   \n",
              "2   2023-01-01    domingo  00:15:00       Sul  PR      SAO JOSE DOS PINHAIS   \n",
              "3   2023-01-01    domingo  00:20:00  Nordeste  SE  NOSSA SENHORA DO SOCORRO   \n",
              "4   2023-01-01    domingo  00:20:00   Sudeste  MG                    LAVRAS   \n",
              "\n",
              "      br     km                            causa_acidente  \\\n",
              "0   40.0    468                   Velocidade Incompatível   \n",
              "1  116.0    587          Ingestão de álcool pelo condutor   \n",
              "2  376.0    617  Reação tardia ou ineficiente do condutor   \n",
              "3  235.0      6          Ingestão de álcool pelo condutor   \n",
              "4  381.0  686,5      Demais falhas mecânicas ou elétricas   \n",
              "\n",
              "               tipo_acidente  ... tipo_pista tracado_via pessoas veiculos  \\\n",
              "0  Saída de leito carroçável  ...      Dupla        Reta       1        1   \n",
              "1                 Tombamento  ...    Simples        Reta       1        1   \n",
              "2           Colisão traseira  ...    Simples        Reta       5        2   \n",
              "3         Colisão com objeto  ...      Dupla        Reta       2        1   \n",
              "4                Capotamento  ...      Dupla       Curva       1        1   \n",
              "\n",
              "  feridos mortos  feridos_leves  feridos_graves  ilesos  ignorados  \n",
              "0       1      0              1               0       0          0  \n",
              "1       1      0              1               0       0          0  \n",
              "2       2      0              2               0       2          1  \n",
              "3       2      0              0               2       0          0  \n",
              "4       1      0              1               0       0          0  \n",
              "\n",
              "[5 rows x 24 columns]"
            ],
            "text/html": [
              "\n",
              "  <div id=\"df-d6fad935-5862-4d0e-9455-f299818f035a\" class=\"colab-df-container\">\n",
              "    <div>\n",
              "<style scoped>\n",
              "    .dataframe tbody tr th:only-of-type {\n",
              "        vertical-align: middle;\n",
              "    }\n",
              "\n",
              "    .dataframe tbody tr th {\n",
              "        vertical-align: top;\n",
              "    }\n",
              "\n",
              "    .dataframe thead th {\n",
              "        text-align: right;\n",
              "    }\n",
              "</style>\n",
              "<table border=\"1\" class=\"dataframe\">\n",
              "  <thead>\n",
              "    <tr style=\"text-align: right;\">\n",
              "      <th></th>\n",
              "      <th>data_inversa</th>\n",
              "      <th>dia_semana</th>\n",
              "      <th>horario</th>\n",
              "      <th>regiao</th>\n",
              "      <th>uf</th>\n",
              "      <th>municipio</th>\n",
              "      <th>br</th>\n",
              "      <th>km</th>\n",
              "      <th>causa_acidente</th>\n",
              "      <th>tipo_acidente</th>\n",
              "      <th>...</th>\n",
              "      <th>tipo_pista</th>\n",
              "      <th>tracado_via</th>\n",
              "      <th>pessoas</th>\n",
              "      <th>veiculos</th>\n",
              "      <th>feridos</th>\n",
              "      <th>mortos</th>\n",
              "      <th>feridos_leves</th>\n",
              "      <th>feridos_graves</th>\n",
              "      <th>ilesos</th>\n",
              "      <th>ignorados</th>\n",
              "    </tr>\n",
              "  </thead>\n",
              "  <tbody>\n",
              "    <tr>\n",
              "      <th>0</th>\n",
              "      <td>2023-01-01</td>\n",
              "      <td>domingo</td>\n",
              "      <td>00:01:00</td>\n",
              "      <td>Sudeste</td>\n",
              "      <td>MG</td>\n",
              "      <td>SETE LAGOAS</td>\n",
              "      <td>40.0</td>\n",
              "      <td>468</td>\n",
              "      <td>Velocidade Incompatível</td>\n",
              "      <td>Saída de leito carroçável</td>\n",
              "      <td>...</td>\n",
              "      <td>Dupla</td>\n",
              "      <td>Reta</td>\n",
              "      <td>1</td>\n",
              "      <td>1</td>\n",
              "      <td>1</td>\n",
              "      <td>0</td>\n",
              "      <td>1</td>\n",
              "      <td>0</td>\n",
              "      <td>0</td>\n",
              "      <td>0</td>\n",
              "    </tr>\n",
              "    <tr>\n",
              "      <th>1</th>\n",
              "      <td>2023-01-01</td>\n",
              "      <td>domingo</td>\n",
              "      <td>00:15:00</td>\n",
              "      <td>Sudeste</td>\n",
              "      <td>MG</td>\n",
              "      <td>MANHUACU</td>\n",
              "      <td>116.0</td>\n",
              "      <td>587</td>\n",
              "      <td>Ingestão de álcool pelo condutor</td>\n",
              "      <td>Tombamento</td>\n",
              "      <td>...</td>\n",
              "      <td>Simples</td>\n",
              "      <td>Reta</td>\n",
              "      <td>1</td>\n",
              "      <td>1</td>\n",
              "      <td>1</td>\n",
              "      <td>0</td>\n",
              "      <td>1</td>\n",
              "      <td>0</td>\n",
              "      <td>0</td>\n",
              "      <td>0</td>\n",
              "    </tr>\n",
              "    <tr>\n",
              "      <th>2</th>\n",
              "      <td>2023-01-01</td>\n",
              "      <td>domingo</td>\n",
              "      <td>00:15:00</td>\n",
              "      <td>Sul</td>\n",
              "      <td>PR</td>\n",
              "      <td>SAO JOSE DOS PINHAIS</td>\n",
              "      <td>376.0</td>\n",
              "      <td>617</td>\n",
              "      <td>Reação tardia ou ineficiente do condutor</td>\n",
              "      <td>Colisão traseira</td>\n",
              "      <td>...</td>\n",
              "      <td>Simples</td>\n",
              "      <td>Reta</td>\n",
              "      <td>5</td>\n",
              "      <td>2</td>\n",
              "      <td>2</td>\n",
              "      <td>0</td>\n",
              "      <td>2</td>\n",
              "      <td>0</td>\n",
              "      <td>2</td>\n",
              "      <td>1</td>\n",
              "    </tr>\n",
              "    <tr>\n",
              "      <th>3</th>\n",
              "      <td>2023-01-01</td>\n",
              "      <td>domingo</td>\n",
              "      <td>00:20:00</td>\n",
              "      <td>Nordeste</td>\n",
              "      <td>SE</td>\n",
              "      <td>NOSSA SENHORA DO SOCORRO</td>\n",
              "      <td>235.0</td>\n",
              "      <td>6</td>\n",
              "      <td>Ingestão de álcool pelo condutor</td>\n",
              "      <td>Colisão com objeto</td>\n",
              "      <td>...</td>\n",
              "      <td>Dupla</td>\n",
              "      <td>Reta</td>\n",
              "      <td>2</td>\n",
              "      <td>1</td>\n",
              "      <td>2</td>\n",
              "      <td>0</td>\n",
              "      <td>0</td>\n",
              "      <td>2</td>\n",
              "      <td>0</td>\n",
              "      <td>0</td>\n",
              "    </tr>\n",
              "    <tr>\n",
              "      <th>4</th>\n",
              "      <td>2023-01-01</td>\n",
              "      <td>domingo</td>\n",
              "      <td>00:20:00</td>\n",
              "      <td>Sudeste</td>\n",
              "      <td>MG</td>\n",
              "      <td>LAVRAS</td>\n",
              "      <td>381.0</td>\n",
              "      <td>686,5</td>\n",
              "      <td>Demais falhas mecânicas ou elétricas</td>\n",
              "      <td>Capotamento</td>\n",
              "      <td>...</td>\n",
              "      <td>Dupla</td>\n",
              "      <td>Curva</td>\n",
              "      <td>1</td>\n",
              "      <td>1</td>\n",
              "      <td>1</td>\n",
              "      <td>0</td>\n",
              "      <td>1</td>\n",
              "      <td>0</td>\n",
              "      <td>0</td>\n",
              "      <td>0</td>\n",
              "    </tr>\n",
              "  </tbody>\n",
              "</table>\n",
              "<p>5 rows × 24 columns</p>\n",
              "</div>\n",
              "    <div class=\"colab-df-buttons\">\n",
              "\n",
              "  <div class=\"colab-df-container\">\n",
              "    <button class=\"colab-df-convert\" onclick=\"convertToInteractive('df-d6fad935-5862-4d0e-9455-f299818f035a')\"\n",
              "            title=\"Convert this dataframe to an interactive table.\"\n",
              "            style=\"display:none;\">\n",
              "\n",
              "  <svg xmlns=\"http://www.w3.org/2000/svg\" height=\"24px\" viewBox=\"0 -960 960 960\">\n",
              "    <path d=\"M120-120v-720h720v720H120Zm60-500h600v-160H180v160Zm220 220h160v-160H400v160Zm0 220h160v-160H400v160ZM180-400h160v-160H180v160Zm440 0h160v-160H620v160ZM180-180h160v-160H180v160Zm440 0h160v-160H620v160Z\"/>\n",
              "  </svg>\n",
              "    </button>\n",
              "\n",
              "  <style>\n",
              "    .colab-df-container {\n",
              "      display:flex;\n",
              "      gap: 12px;\n",
              "    }\n",
              "\n",
              "    .colab-df-convert {\n",
              "      background-color: #E8F0FE;\n",
              "      border: none;\n",
              "      border-radius: 50%;\n",
              "      cursor: pointer;\n",
              "      display: none;\n",
              "      fill: #1967D2;\n",
              "      height: 32px;\n",
              "      padding: 0 0 0 0;\n",
              "      width: 32px;\n",
              "    }\n",
              "\n",
              "    .colab-df-convert:hover {\n",
              "      background-color: #E2EBFA;\n",
              "      box-shadow: 0px 1px 2px rgba(60, 64, 67, 0.3), 0px 1px 3px 1px rgba(60, 64, 67, 0.15);\n",
              "      fill: #174EA6;\n",
              "    }\n",
              "\n",
              "    .colab-df-buttons div {\n",
              "      margin-bottom: 4px;\n",
              "    }\n",
              "\n",
              "    [theme=dark] .colab-df-convert {\n",
              "      background-color: #3B4455;\n",
              "      fill: #D2E3FC;\n",
              "    }\n",
              "\n",
              "    [theme=dark] .colab-df-convert:hover {\n",
              "      background-color: #434B5C;\n",
              "      box-shadow: 0px 1px 3px 1px rgba(0, 0, 0, 0.15);\n",
              "      filter: drop-shadow(0px 1px 2px rgba(0, 0, 0, 0.3));\n",
              "      fill: #FFFFFF;\n",
              "    }\n",
              "  </style>\n",
              "\n",
              "    <script>\n",
              "      const buttonEl =\n",
              "        document.querySelector('#df-d6fad935-5862-4d0e-9455-f299818f035a button.colab-df-convert');\n",
              "      buttonEl.style.display =\n",
              "        google.colab.kernel.accessAllowed ? 'block' : 'none';\n",
              "\n",
              "      async function convertToInteractive(key) {\n",
              "        const element = document.querySelector('#df-d6fad935-5862-4d0e-9455-f299818f035a');\n",
              "        const dataTable =\n",
              "          await google.colab.kernel.invokeFunction('convertToInteractive',\n",
              "                                                    [key], {});\n",
              "        if (!dataTable) return;\n",
              "\n",
              "        const docLinkHtml = 'Like what you see? Visit the ' +\n",
              "          '<a target=\"_blank\" href=https://colab.research.google.com/notebooks/data_table.ipynb>data table notebook</a>'\n",
              "          + ' to learn more about interactive tables.';\n",
              "        element.innerHTML = '';\n",
              "        dataTable['output_type'] = 'display_data';\n",
              "        await google.colab.output.renderOutput(dataTable, element);\n",
              "        const docLink = document.createElement('div');\n",
              "        docLink.innerHTML = docLinkHtml;\n",
              "        element.appendChild(docLink);\n",
              "      }\n",
              "    </script>\n",
              "  </div>\n",
              "\n",
              "\n",
              "<div id=\"df-925392b9-fd0c-4a64-9026-d2bf6a7d1ce7\">\n",
              "  <button class=\"colab-df-quickchart\" onclick=\"quickchart('df-925392b9-fd0c-4a64-9026-d2bf6a7d1ce7')\"\n",
              "            title=\"Suggest charts\"\n",
              "            style=\"display:none;\">\n",
              "\n",
              "<svg xmlns=\"http://www.w3.org/2000/svg\" height=\"24px\"viewBox=\"0 0 24 24\"\n",
              "     width=\"24px\">\n",
              "    <g>\n",
              "        <path d=\"M19 3H5c-1.1 0-2 .9-2 2v14c0 1.1.9 2 2 2h14c1.1 0 2-.9 2-2V5c0-1.1-.9-2-2-2zM9 17H7v-7h2v7zm4 0h-2V7h2v10zm4 0h-2v-4h2v4z\"/>\n",
              "    </g>\n",
              "</svg>\n",
              "  </button>\n",
              "\n",
              "<style>\n",
              "  .colab-df-quickchart {\n",
              "      --bg-color: #E8F0FE;\n",
              "      --fill-color: #1967D2;\n",
              "      --hover-bg-color: #E2EBFA;\n",
              "      --hover-fill-color: #174EA6;\n",
              "      --disabled-fill-color: #AAA;\n",
              "      --disabled-bg-color: #DDD;\n",
              "  }\n",
              "\n",
              "  [theme=dark] .colab-df-quickchart {\n",
              "      --bg-color: #3B4455;\n",
              "      --fill-color: #D2E3FC;\n",
              "      --hover-bg-color: #434B5C;\n",
              "      --hover-fill-color: #FFFFFF;\n",
              "      --disabled-bg-color: #3B4455;\n",
              "      --disabled-fill-color: #666;\n",
              "  }\n",
              "\n",
              "  .colab-df-quickchart {\n",
              "    background-color: var(--bg-color);\n",
              "    border: none;\n",
              "    border-radius: 50%;\n",
              "    cursor: pointer;\n",
              "    display: none;\n",
              "    fill: var(--fill-color);\n",
              "    height: 32px;\n",
              "    padding: 0;\n",
              "    width: 32px;\n",
              "  }\n",
              "\n",
              "  .colab-df-quickchart:hover {\n",
              "    background-color: var(--hover-bg-color);\n",
              "    box-shadow: 0 1px 2px rgba(60, 64, 67, 0.3), 0 1px 3px 1px rgba(60, 64, 67, 0.15);\n",
              "    fill: var(--button-hover-fill-color);\n",
              "  }\n",
              "\n",
              "  .colab-df-quickchart-complete:disabled,\n",
              "  .colab-df-quickchart-complete:disabled:hover {\n",
              "    background-color: var(--disabled-bg-color);\n",
              "    fill: var(--disabled-fill-color);\n",
              "    box-shadow: none;\n",
              "  }\n",
              "\n",
              "  .colab-df-spinner {\n",
              "    border: 2px solid var(--fill-color);\n",
              "    border-color: transparent;\n",
              "    border-bottom-color: var(--fill-color);\n",
              "    animation:\n",
              "      spin 1s steps(1) infinite;\n",
              "  }\n",
              "\n",
              "  @keyframes spin {\n",
              "    0% {\n",
              "      border-color: transparent;\n",
              "      border-bottom-color: var(--fill-color);\n",
              "      border-left-color: var(--fill-color);\n",
              "    }\n",
              "    20% {\n",
              "      border-color: transparent;\n",
              "      border-left-color: var(--fill-color);\n",
              "      border-top-color: var(--fill-color);\n",
              "    }\n",
              "    30% {\n",
              "      border-color: transparent;\n",
              "      border-left-color: var(--fill-color);\n",
              "      border-top-color: var(--fill-color);\n",
              "      border-right-color: var(--fill-color);\n",
              "    }\n",
              "    40% {\n",
              "      border-color: transparent;\n",
              "      border-right-color: var(--fill-color);\n",
              "      border-top-color: var(--fill-color);\n",
              "    }\n",
              "    60% {\n",
              "      border-color: transparent;\n",
              "      border-right-color: var(--fill-color);\n",
              "    }\n",
              "    80% {\n",
              "      border-color: transparent;\n",
              "      border-right-color: var(--fill-color);\n",
              "      border-bottom-color: var(--fill-color);\n",
              "    }\n",
              "    90% {\n",
              "      border-color: transparent;\n",
              "      border-bottom-color: var(--fill-color);\n",
              "    }\n",
              "  }\n",
              "</style>\n",
              "\n",
              "  <script>\n",
              "    async function quickchart(key) {\n",
              "      const quickchartButtonEl =\n",
              "        document.querySelector('#' + key + ' button');\n",
              "      quickchartButtonEl.disabled = true;  // To prevent multiple clicks.\n",
              "      quickchartButtonEl.classList.add('colab-df-spinner');\n",
              "      try {\n",
              "        const charts = await google.colab.kernel.invokeFunction(\n",
              "            'suggestCharts', [key], {});\n",
              "      } catch (error) {\n",
              "        console.error('Error during call to suggestCharts:', error);\n",
              "      }\n",
              "      quickchartButtonEl.classList.remove('colab-df-spinner');\n",
              "      quickchartButtonEl.classList.add('colab-df-quickchart-complete');\n",
              "    }\n",
              "    (() => {\n",
              "      let quickchartButtonEl =\n",
              "        document.querySelector('#df-925392b9-fd0c-4a64-9026-d2bf6a7d1ce7 button');\n",
              "      quickchartButtonEl.style.display =\n",
              "        google.colab.kernel.accessAllowed ? 'block' : 'none';\n",
              "    })();\n",
              "  </script>\n",
              "</div>\n",
              "    </div>\n",
              "  </div>\n"
            ],
            "application/vnd.google.colaboratory.intrinsic+json": {
              "type": "dataframe",
              "variable_name": "transito_regiao"
            }
          },
          "metadata": {},
          "execution_count": 8
        }
      ]
    },
    {
      "cell_type": "code",
      "source": [
        "transito_regiao.head(5)"
      ],
      "metadata": {
        "colab": {
          "base_uri": "https://localhost:8080/",
          "height": 429
        },
        "id": "4_pgM9Ql780H",
        "outputId": "8918daae-e5df-42e9-e344-7283c3478d3b"
      },
      "execution_count": null,
      "outputs": [
        {
          "output_type": "execute_result",
          "data": {
            "text/plain": [
              "  data_inversa dia_semana   horario    regiao  uf                 municipio  \\\n",
              "0   2023-01-01    domingo  00:01:00   Sudeste  MG               SETE LAGOAS   \n",
              "1   2023-01-01    domingo  00:15:00   Sudeste  MG                  MANHUACU   \n",
              "2   2023-01-01    domingo  00:15:00       Sul  PR      SAO JOSE DOS PINHAIS   \n",
              "3   2023-01-01    domingo  00:20:00  Nordeste  SE  NOSSA SENHORA DO SOCORRO   \n",
              "4   2023-01-01    domingo  00:20:00   Sudeste  MG                    LAVRAS   \n",
              "\n",
              "      br     km                            causa_acidente  \\\n",
              "0   40.0    468                   Velocidade Incompatível   \n",
              "1  116.0    587          Ingestão de álcool pelo condutor   \n",
              "2  376.0    617  Reação tardia ou ineficiente do condutor   \n",
              "3  235.0      6          Ingestão de álcool pelo condutor   \n",
              "4  381.0  686,5      Demais falhas mecânicas ou elétricas   \n",
              "\n",
              "               tipo_acidente  ... tipo_pista tracado_via pessoas veiculos  \\\n",
              "0  Saída de leito carroçável  ...      Dupla        Reta       1        1   \n",
              "1                 Tombamento  ...    Simples        Reta       1        1   \n",
              "2           Colisão traseira  ...    Simples        Reta       5        2   \n",
              "3         Colisão com objeto  ...      Dupla        Reta       2        1   \n",
              "4                Capotamento  ...      Dupla       Curva       1        1   \n",
              "\n",
              "  feridos mortos  feridos_leves  feridos_graves  ilesos  ignorados  \n",
              "0       1      0              1               0       0          0  \n",
              "1       1      0              1               0       0          0  \n",
              "2       2      0              2               0       2          1  \n",
              "3       2      0              0               2       0          0  \n",
              "4       1      0              1               0       0          0  \n",
              "\n",
              "[5 rows x 24 columns]"
            ],
            "text/html": [
              "\n",
              "  <div id=\"df-24582bb5-9c8d-4404-91e5-a07360c2f43a\" class=\"colab-df-container\">\n",
              "    <div>\n",
              "<style scoped>\n",
              "    .dataframe tbody tr th:only-of-type {\n",
              "        vertical-align: middle;\n",
              "    }\n",
              "\n",
              "    .dataframe tbody tr th {\n",
              "        vertical-align: top;\n",
              "    }\n",
              "\n",
              "    .dataframe thead th {\n",
              "        text-align: right;\n",
              "    }\n",
              "</style>\n",
              "<table border=\"1\" class=\"dataframe\">\n",
              "  <thead>\n",
              "    <tr style=\"text-align: right;\">\n",
              "      <th></th>\n",
              "      <th>data_inversa</th>\n",
              "      <th>dia_semana</th>\n",
              "      <th>horario</th>\n",
              "      <th>regiao</th>\n",
              "      <th>uf</th>\n",
              "      <th>municipio</th>\n",
              "      <th>br</th>\n",
              "      <th>km</th>\n",
              "      <th>causa_acidente</th>\n",
              "      <th>tipo_acidente</th>\n",
              "      <th>...</th>\n",
              "      <th>tipo_pista</th>\n",
              "      <th>tracado_via</th>\n",
              "      <th>pessoas</th>\n",
              "      <th>veiculos</th>\n",
              "      <th>feridos</th>\n",
              "      <th>mortos</th>\n",
              "      <th>feridos_leves</th>\n",
              "      <th>feridos_graves</th>\n",
              "      <th>ilesos</th>\n",
              "      <th>ignorados</th>\n",
              "    </tr>\n",
              "  </thead>\n",
              "  <tbody>\n",
              "    <tr>\n",
              "      <th>0</th>\n",
              "      <td>2023-01-01</td>\n",
              "      <td>domingo</td>\n",
              "      <td>00:01:00</td>\n",
              "      <td>Sudeste</td>\n",
              "      <td>MG</td>\n",
              "      <td>SETE LAGOAS</td>\n",
              "      <td>40.0</td>\n",
              "      <td>468</td>\n",
              "      <td>Velocidade Incompatível</td>\n",
              "      <td>Saída de leito carroçável</td>\n",
              "      <td>...</td>\n",
              "      <td>Dupla</td>\n",
              "      <td>Reta</td>\n",
              "      <td>1</td>\n",
              "      <td>1</td>\n",
              "      <td>1</td>\n",
              "      <td>0</td>\n",
              "      <td>1</td>\n",
              "      <td>0</td>\n",
              "      <td>0</td>\n",
              "      <td>0</td>\n",
              "    </tr>\n",
              "    <tr>\n",
              "      <th>1</th>\n",
              "      <td>2023-01-01</td>\n",
              "      <td>domingo</td>\n",
              "      <td>00:15:00</td>\n",
              "      <td>Sudeste</td>\n",
              "      <td>MG</td>\n",
              "      <td>MANHUACU</td>\n",
              "      <td>116.0</td>\n",
              "      <td>587</td>\n",
              "      <td>Ingestão de álcool pelo condutor</td>\n",
              "      <td>Tombamento</td>\n",
              "      <td>...</td>\n",
              "      <td>Simples</td>\n",
              "      <td>Reta</td>\n",
              "      <td>1</td>\n",
              "      <td>1</td>\n",
              "      <td>1</td>\n",
              "      <td>0</td>\n",
              "      <td>1</td>\n",
              "      <td>0</td>\n",
              "      <td>0</td>\n",
              "      <td>0</td>\n",
              "    </tr>\n",
              "    <tr>\n",
              "      <th>2</th>\n",
              "      <td>2023-01-01</td>\n",
              "      <td>domingo</td>\n",
              "      <td>00:15:00</td>\n",
              "      <td>Sul</td>\n",
              "      <td>PR</td>\n",
              "      <td>SAO JOSE DOS PINHAIS</td>\n",
              "      <td>376.0</td>\n",
              "      <td>617</td>\n",
              "      <td>Reação tardia ou ineficiente do condutor</td>\n",
              "      <td>Colisão traseira</td>\n",
              "      <td>...</td>\n",
              "      <td>Simples</td>\n",
              "      <td>Reta</td>\n",
              "      <td>5</td>\n",
              "      <td>2</td>\n",
              "      <td>2</td>\n",
              "      <td>0</td>\n",
              "      <td>2</td>\n",
              "      <td>0</td>\n",
              "      <td>2</td>\n",
              "      <td>1</td>\n",
              "    </tr>\n",
              "    <tr>\n",
              "      <th>3</th>\n",
              "      <td>2023-01-01</td>\n",
              "      <td>domingo</td>\n",
              "      <td>00:20:00</td>\n",
              "      <td>Nordeste</td>\n",
              "      <td>SE</td>\n",
              "      <td>NOSSA SENHORA DO SOCORRO</td>\n",
              "      <td>235.0</td>\n",
              "      <td>6</td>\n",
              "      <td>Ingestão de álcool pelo condutor</td>\n",
              "      <td>Colisão com objeto</td>\n",
              "      <td>...</td>\n",
              "      <td>Dupla</td>\n",
              "      <td>Reta</td>\n",
              "      <td>2</td>\n",
              "      <td>1</td>\n",
              "      <td>2</td>\n",
              "      <td>0</td>\n",
              "      <td>0</td>\n",
              "      <td>2</td>\n",
              "      <td>0</td>\n",
              "      <td>0</td>\n",
              "    </tr>\n",
              "    <tr>\n",
              "      <th>4</th>\n",
              "      <td>2023-01-01</td>\n",
              "      <td>domingo</td>\n",
              "      <td>00:20:00</td>\n",
              "      <td>Sudeste</td>\n",
              "      <td>MG</td>\n",
              "      <td>LAVRAS</td>\n",
              "      <td>381.0</td>\n",
              "      <td>686,5</td>\n",
              "      <td>Demais falhas mecânicas ou elétricas</td>\n",
              "      <td>Capotamento</td>\n",
              "      <td>...</td>\n",
              "      <td>Dupla</td>\n",
              "      <td>Curva</td>\n",
              "      <td>1</td>\n",
              "      <td>1</td>\n",
              "      <td>1</td>\n",
              "      <td>0</td>\n",
              "      <td>1</td>\n",
              "      <td>0</td>\n",
              "      <td>0</td>\n",
              "      <td>0</td>\n",
              "    </tr>\n",
              "  </tbody>\n",
              "</table>\n",
              "<p>5 rows × 24 columns</p>\n",
              "</div>\n",
              "    <div class=\"colab-df-buttons\">\n",
              "\n",
              "  <div class=\"colab-df-container\">\n",
              "    <button class=\"colab-df-convert\" onclick=\"convertToInteractive('df-24582bb5-9c8d-4404-91e5-a07360c2f43a')\"\n",
              "            title=\"Convert this dataframe to an interactive table.\"\n",
              "            style=\"display:none;\">\n",
              "\n",
              "  <svg xmlns=\"http://www.w3.org/2000/svg\" height=\"24px\" viewBox=\"0 -960 960 960\">\n",
              "    <path d=\"M120-120v-720h720v720H120Zm60-500h600v-160H180v160Zm220 220h160v-160H400v160Zm0 220h160v-160H400v160ZM180-400h160v-160H180v160Zm440 0h160v-160H620v160ZM180-180h160v-160H180v160Zm440 0h160v-160H620v160Z\"/>\n",
              "  </svg>\n",
              "    </button>\n",
              "\n",
              "  <style>\n",
              "    .colab-df-container {\n",
              "      display:flex;\n",
              "      gap: 12px;\n",
              "    }\n",
              "\n",
              "    .colab-df-convert {\n",
              "      background-color: #E8F0FE;\n",
              "      border: none;\n",
              "      border-radius: 50%;\n",
              "      cursor: pointer;\n",
              "      display: none;\n",
              "      fill: #1967D2;\n",
              "      height: 32px;\n",
              "      padding: 0 0 0 0;\n",
              "      width: 32px;\n",
              "    }\n",
              "\n",
              "    .colab-df-convert:hover {\n",
              "      background-color: #E2EBFA;\n",
              "      box-shadow: 0px 1px 2px rgba(60, 64, 67, 0.3), 0px 1px 3px 1px rgba(60, 64, 67, 0.15);\n",
              "      fill: #174EA6;\n",
              "    }\n",
              "\n",
              "    .colab-df-buttons div {\n",
              "      margin-bottom: 4px;\n",
              "    }\n",
              "\n",
              "    [theme=dark] .colab-df-convert {\n",
              "      background-color: #3B4455;\n",
              "      fill: #D2E3FC;\n",
              "    }\n",
              "\n",
              "    [theme=dark] .colab-df-convert:hover {\n",
              "      background-color: #434B5C;\n",
              "      box-shadow: 0px 1px 3px 1px rgba(0, 0, 0, 0.15);\n",
              "      filter: drop-shadow(0px 1px 2px rgba(0, 0, 0, 0.3));\n",
              "      fill: #FFFFFF;\n",
              "    }\n",
              "  </style>\n",
              "\n",
              "    <script>\n",
              "      const buttonEl =\n",
              "        document.querySelector('#df-24582bb5-9c8d-4404-91e5-a07360c2f43a button.colab-df-convert');\n",
              "      buttonEl.style.display =\n",
              "        google.colab.kernel.accessAllowed ? 'block' : 'none';\n",
              "\n",
              "      async function convertToInteractive(key) {\n",
              "        const element = document.querySelector('#df-24582bb5-9c8d-4404-91e5-a07360c2f43a');\n",
              "        const dataTable =\n",
              "          await google.colab.kernel.invokeFunction('convertToInteractive',\n",
              "                                                    [key], {});\n",
              "        if (!dataTable) return;\n",
              "\n",
              "        const docLinkHtml = 'Like what you see? Visit the ' +\n",
              "          '<a target=\"_blank\" href=https://colab.research.google.com/notebooks/data_table.ipynb>data table notebook</a>'\n",
              "          + ' to learn more about interactive tables.';\n",
              "        element.innerHTML = '';\n",
              "        dataTable['output_type'] = 'display_data';\n",
              "        await google.colab.output.renderOutput(dataTable, element);\n",
              "        const docLink = document.createElement('div');\n",
              "        docLink.innerHTML = docLinkHtml;\n",
              "        element.appendChild(docLink);\n",
              "      }\n",
              "    </script>\n",
              "  </div>\n",
              "\n",
              "\n",
              "<div id=\"df-aa2645cf-8ca3-49e5-b58d-e00b422861aa\">\n",
              "  <button class=\"colab-df-quickchart\" onclick=\"quickchart('df-aa2645cf-8ca3-49e5-b58d-e00b422861aa')\"\n",
              "            title=\"Suggest charts\"\n",
              "            style=\"display:none;\">\n",
              "\n",
              "<svg xmlns=\"http://www.w3.org/2000/svg\" height=\"24px\"viewBox=\"0 0 24 24\"\n",
              "     width=\"24px\">\n",
              "    <g>\n",
              "        <path d=\"M19 3H5c-1.1 0-2 .9-2 2v14c0 1.1.9 2 2 2h14c1.1 0 2-.9 2-2V5c0-1.1-.9-2-2-2zM9 17H7v-7h2v7zm4 0h-2V7h2v10zm4 0h-2v-4h2v4z\"/>\n",
              "    </g>\n",
              "</svg>\n",
              "  </button>\n",
              "\n",
              "<style>\n",
              "  .colab-df-quickchart {\n",
              "      --bg-color: #E8F0FE;\n",
              "      --fill-color: #1967D2;\n",
              "      --hover-bg-color: #E2EBFA;\n",
              "      --hover-fill-color: #174EA6;\n",
              "      --disabled-fill-color: #AAA;\n",
              "      --disabled-bg-color: #DDD;\n",
              "  }\n",
              "\n",
              "  [theme=dark] .colab-df-quickchart {\n",
              "      --bg-color: #3B4455;\n",
              "      --fill-color: #D2E3FC;\n",
              "      --hover-bg-color: #434B5C;\n",
              "      --hover-fill-color: #FFFFFF;\n",
              "      --disabled-bg-color: #3B4455;\n",
              "      --disabled-fill-color: #666;\n",
              "  }\n",
              "\n",
              "  .colab-df-quickchart {\n",
              "    background-color: var(--bg-color);\n",
              "    border: none;\n",
              "    border-radius: 50%;\n",
              "    cursor: pointer;\n",
              "    display: none;\n",
              "    fill: var(--fill-color);\n",
              "    height: 32px;\n",
              "    padding: 0;\n",
              "    width: 32px;\n",
              "  }\n",
              "\n",
              "  .colab-df-quickchart:hover {\n",
              "    background-color: var(--hover-bg-color);\n",
              "    box-shadow: 0 1px 2px rgba(60, 64, 67, 0.3), 0 1px 3px 1px rgba(60, 64, 67, 0.15);\n",
              "    fill: var(--button-hover-fill-color);\n",
              "  }\n",
              "\n",
              "  .colab-df-quickchart-complete:disabled,\n",
              "  .colab-df-quickchart-complete:disabled:hover {\n",
              "    background-color: var(--disabled-bg-color);\n",
              "    fill: var(--disabled-fill-color);\n",
              "    box-shadow: none;\n",
              "  }\n",
              "\n",
              "  .colab-df-spinner {\n",
              "    border: 2px solid var(--fill-color);\n",
              "    border-color: transparent;\n",
              "    border-bottom-color: var(--fill-color);\n",
              "    animation:\n",
              "      spin 1s steps(1) infinite;\n",
              "  }\n",
              "\n",
              "  @keyframes spin {\n",
              "    0% {\n",
              "      border-color: transparent;\n",
              "      border-bottom-color: var(--fill-color);\n",
              "      border-left-color: var(--fill-color);\n",
              "    }\n",
              "    20% {\n",
              "      border-color: transparent;\n",
              "      border-left-color: var(--fill-color);\n",
              "      border-top-color: var(--fill-color);\n",
              "    }\n",
              "    30% {\n",
              "      border-color: transparent;\n",
              "      border-left-color: var(--fill-color);\n",
              "      border-top-color: var(--fill-color);\n",
              "      border-right-color: var(--fill-color);\n",
              "    }\n",
              "    40% {\n",
              "      border-color: transparent;\n",
              "      border-right-color: var(--fill-color);\n",
              "      border-top-color: var(--fill-color);\n",
              "    }\n",
              "    60% {\n",
              "      border-color: transparent;\n",
              "      border-right-color: var(--fill-color);\n",
              "    }\n",
              "    80% {\n",
              "      border-color: transparent;\n",
              "      border-right-color: var(--fill-color);\n",
              "      border-bottom-color: var(--fill-color);\n",
              "    }\n",
              "    90% {\n",
              "      border-color: transparent;\n",
              "      border-bottom-color: var(--fill-color);\n",
              "    }\n",
              "  }\n",
              "</style>\n",
              "\n",
              "  <script>\n",
              "    async function quickchart(key) {\n",
              "      const quickchartButtonEl =\n",
              "        document.querySelector('#' + key + ' button');\n",
              "      quickchartButtonEl.disabled = true;  // To prevent multiple clicks.\n",
              "      quickchartButtonEl.classList.add('colab-df-spinner');\n",
              "      try {\n",
              "        const charts = await google.colab.kernel.invokeFunction(\n",
              "            'suggestCharts', [key], {});\n",
              "      } catch (error) {\n",
              "        console.error('Error during call to suggestCharts:', error);\n",
              "      }\n",
              "      quickchartButtonEl.classList.remove('colab-df-spinner');\n",
              "      quickchartButtonEl.classList.add('colab-df-quickchart-complete');\n",
              "    }\n",
              "    (() => {\n",
              "      let quickchartButtonEl =\n",
              "        document.querySelector('#df-aa2645cf-8ca3-49e5-b58d-e00b422861aa button');\n",
              "      quickchartButtonEl.style.display =\n",
              "        google.colab.kernel.accessAllowed ? 'block' : 'none';\n",
              "    })();\n",
              "  </script>\n",
              "</div>\n",
              "    </div>\n",
              "  </div>\n"
            ],
            "application/vnd.google.colaboratory.intrinsic+json": {
              "type": "dataframe",
              "variable_name": "transito_regiao"
            }
          },
          "metadata": {},
          "execution_count": 9
        }
      ]
    },
    {
      "cell_type": "code",
      "source": [
        "#Novo DataFrame chamado aggregated_df com as informações agrupadas. Esta disponível para exportação esses dados para um novo arquivo CSV\n",
        "\n",
        "transito_regiao.to_csv('dados_agrupados.csv', index=False)\n"
      ],
      "metadata": {
        "id": "tmaOETfRutY0"
      },
      "execution_count": null,
      "outputs": []
    },
    {
      "cell_type": "code",
      "source": [
        "print(len(transito_regiao[transito_regiao['regiao'] == 'Sul']))"
      ],
      "metadata": {
        "colab": {
          "base_uri": "https://localhost:8080/"
        },
        "id": "h0O6DYSd9gH1",
        "outputId": "bac5ee83-b8f3-453c-bfbe-97ada7ca56fb"
      },
      "execution_count": null,
      "outputs": [
        {
          "output_type": "stream",
          "name": "stdout",
          "text": [
            "9800\n"
          ]
        }
      ]
    },
    {
      "cell_type": "markdown",
      "source": [
        "# **Dados agrupados por região:**\n",
        "\n"
      ],
      "metadata": {
        "id": "CqAMbzKTOklX"
      }
    },
    {
      "cell_type": "code",
      "source": [
        "# Listar as regiões e calcular a soma das colunas numéricas por região - pessoas envolvidas\n",
        "relatorio = transito_regiao.groupby('regiao')[['pessoas', 'veiculos', 'feridos', 'mortos',\n",
        "                                  'feridos_leves', 'feridos_graves', 'ilesos',\n",
        "                                  'ignorados']].sum()"
      ],
      "metadata": {
        "id": "pqjEO_9GOnRj"
      },
      "execution_count": null,
      "outputs": []
    },
    {
      "cell_type": "code",
      "source": [
        "# Imprimir o relatório\n",
        "print(relatorio)"
      ],
      "metadata": {
        "id": "ZNGZgx8IM1tJ",
        "colab": {
          "base_uri": "https://localhost:8080/"
        },
        "outputId": "876ce053-d246-40f8-c604-cb206b643d59"
      },
      "execution_count": null,
      "outputs": [
        {
          "output_type": "stream",
          "name": "stdout",
          "text": [
            "              pessoas  veiculos  feridos  mortos  feridos_leves  \\\n",
            "regiao                                                            \n",
            "Centro-Oeste     9215      6078     4299     367           3280   \n",
            "Nordeste        16772     11482     8068     782           5742   \n",
            "Norte            4388      2893     1999     190           1406   \n",
            "Sudeste         24882     16685    12201     701           9670   \n",
            "Sul             24245     16719    10779     616           8255   \n",
            "\n",
            "              feridos_graves  ilesos  ignorados  \n",
            "regiao                                           \n",
            "Centro-Oeste            1019    3984        565  \n",
            "Nordeste                2326    6636       1286  \n",
            "Norte                    593    1882        317  \n",
            "Sudeste                 2531   10528       1452  \n",
            "Sul                     2524   11404       1446  \n"
          ]
        }
      ]
    },
    {
      "cell_type": "markdown",
      "source": [
        "# **Probabilidade Simples**"
      ],
      "metadata": {
        "id": "S22fr8zIdvOj"
      }
    },
    {
      "cell_type": "markdown",
      "source": [
        "**ANALISE POR REGIÃO**\n"
      ],
      "metadata": {
        "id": "rPqhWa6MLWw1"
      }
    },
    {
      "cell_type": "code",
      "source": [
        "soma = transito_regiao['veiculos'].sum()\n",
        "soma_condSudeste = transito_regiao[transito_regiao['regiao'] == 'Sudeste']['veiculos'].sum()\n",
        "soma_condSul = transito_regiao[transito_regiao['regiao'] == 'Sul']['veiculos'].sum()\n",
        "soma_condNordeste = transito_regiao[transito_regiao['regiao'] == 'Nordeste']['veiculos'].sum()\n",
        "soma_condNorte = transito_regiao[transito_regiao['regiao'] == 'Norte']['veiculos'].sum()\n",
        "soma_condCentroOeste = transito_regiao[transito_regiao['regiao'] == 'Centro-Oeste']['veiculos'].sum()\n",
        "print('total ' + str(soma))\n",
        "print('Soma Sudeste ' + str(soma_condSudeste))\n",
        "print('Soma Sul ' + str(soma_condSul ))\n",
        "print('Soma Nordeste ' + str(soma_condNordeste))\n",
        "print('Soma Norte ' + str(soma_condNorte))\n",
        "print('Soma Centro Oeste ' + str(soma_condCentroOeste))"
      ],
      "metadata": {
        "colab": {
          "base_uri": "https://localhost:8080/"
        },
        "id": "0sUKp0IozVfz",
        "outputId": "5539e70d-7039-4b0b-bc99-5e0c4b0d5d26"
      },
      "execution_count": null,
      "outputs": [
        {
          "output_type": "stream",
          "name": "stdout",
          "text": [
            "total 53857\n",
            "Soma Sudeste 16685\n",
            "Soma Sul 16719\n",
            "Soma Nordeste 11482\n",
            "Soma Norte 2893\n",
            "Soma Centro Oeste 6078\n"
          ]
        }
      ]
    },
    {
      "cell_type": "code",
      "source": [
        "probSul = transito_regiao[transito_regiao['regiao'] == 'Sul']['veiculos'].sum() / transito_regiao['veiculos'].sum()\n",
        "print('A probabilidade de acidentes na região Sul é igual a: '+ str(round(probSul*100,2)) + '%') #converte a variável proMU em uma string com 4 casas decimais"
      ],
      "metadata": {
        "colab": {
          "base_uri": "https://localhost:8080/"
        },
        "id": "Ez-WecMjdxfo",
        "outputId": "a0aa12de-0e9e-4e6d-e201-3816951328a7"
      },
      "execution_count": null,
      "outputs": [
        {
          "output_type": "stream",
          "name": "stdout",
          "text": [
            "A probabilidade de acidentes na região Sul é igual a: 31.04%\n"
          ]
        }
      ]
    },
    {
      "cell_type": "code",
      "source": [
        "probSud = transito_regiao[transito_regiao['regiao'] == 'Sudeste']['veiculos'].sum() / transito_regiao['veiculos'].sum()\n",
        "print('A probabilidade de acidentes na região Sudeste é igual a: '+ str(round(probSud*100,2)) + '%') #converte a variável proMU em uma string com 4 casas decimais"
      ],
      "metadata": {
        "colab": {
          "base_uri": "https://localhost:8080/"
        },
        "id": "Q71OJmEx_FRj",
        "outputId": "8e485601-ffb4-469e-acd1-e74bfc938efe"
      },
      "execution_count": null,
      "outputs": [
        {
          "output_type": "stream",
          "name": "stdout",
          "text": [
            "A probabilidade de acidentes na região Sudeste é igual a: 30.98%\n"
          ]
        }
      ]
    },
    {
      "cell_type": "code",
      "source": [
        "probCO = transito_regiao[transito_regiao['regiao'] == 'Centro-Oeste']['veiculos'].sum() / transito_regiao['veiculos'].sum()\n",
        "print('A probabilidade de acidentes na região Centro-Oeste é igual a: '+ str(round(probCO*100,2)) + '%') #converte a variável proMU em uma string com 4 casas decimais"
      ],
      "metadata": {
        "colab": {
          "base_uri": "https://localhost:8080/"
        },
        "id": "xbiHjKaR_Jzr",
        "outputId": "5031ef39-a955-4f35-fb27-6462f6826cf8"
      },
      "execution_count": null,
      "outputs": [
        {
          "output_type": "stream",
          "name": "stdout",
          "text": [
            "A probabilidade de acidentes na região Centro-Oeste é igual a: 11.29%\n"
          ]
        }
      ]
    },
    {
      "cell_type": "code",
      "source": [
        "probNo = transito_regiao[transito_regiao['regiao'] == 'Norte']['veiculos'].sum() / transito_regiao['veiculos'].sum()\n",
        "print('A probabilidade de acidentes na região Norte é igual a: '+ str(round(probNo*100,2)) + '%') #converte a variável proMU em uma string com 4 casas decimais"
      ],
      "metadata": {
        "colab": {
          "base_uri": "https://localhost:8080/"
        },
        "id": "5lb_3O50_Sl_",
        "outputId": "273c1053-3203-41ef-c00d-a3c8d7f3ff1f"
      },
      "execution_count": null,
      "outputs": [
        {
          "output_type": "stream",
          "name": "stdout",
          "text": [
            "A probabilidade de acidentes na região Norte é igual a: 5.37%\n"
          ]
        }
      ]
    },
    {
      "cell_type": "code",
      "source": [
        "probNe = transito_regiao[transito_regiao['regiao'] == 'Nordeste']['veiculos'].sum() / transito_regiao['veiculos'].sum()\n",
        "print('A probabilidade de acidentes na região Nordeste é igual a: '+ str(round(probNe*100,2)) + '%') #converte a variável proMU em uma string com 4 casas decimais"
      ],
      "metadata": {
        "colab": {
          "base_uri": "https://localhost:8080/"
        },
        "id": "CC9hMi-w_ZjN",
        "outputId": "ca46bfbc-8a55-40ee-806d-9f5b5eee3f21"
      },
      "execution_count": null,
      "outputs": [
        {
          "output_type": "stream",
          "name": "stdout",
          "text": [
            "A probabilidade de acidentes na região Nordeste é igual a: 21.32%\n"
          ]
        }
      ]
    },
    {
      "cell_type": "markdown",
      "source": [
        "**ANALISE POR UF (REGIÃO SUL)**"
      ],
      "metadata": {
        "id": "_03oFw9RLmIq"
      }
    },
    {
      "cell_type": "code",
      "source": [
        "probPR = transito_regiao[(transito_regiao['regiao'] == 'Sul') & (transito_regiao['uf'] == 'PR')]['veiculos'].sum() / transito_regiao[transito_regiao['regiao'] == 'Sul']['veiculos'].sum()\n",
        "print('A probabilidade de acidentes no Parana é igual a: '+ str(round(probPR*100,2)) + '%')\n",
        "print('Total veiculos envolvidos '+ str(len(transito_regiao[transito_regiao['uf'] == 'PR'])))"
      ],
      "metadata": {
        "colab": {
          "base_uri": "https://localhost:8080/"
        },
        "id": "E8gxuNLL5cTm",
        "outputId": "ca79fa2f-487e-4803-f0fa-fa998d31685a"
      },
      "execution_count": null,
      "outputs": [
        {
          "output_type": "stream",
          "name": "stdout",
          "text": [
            "A probabilidade de acidentes no Parana é igual a: 34.55%\n",
            "Total veiculos envolvidos 3439\n"
          ]
        }
      ]
    },
    {
      "cell_type": "code",
      "source": [
        "probSC = transito_regiao[(transito_regiao['regiao'] == 'Sul') & (transito_regiao['uf'] == 'SC')]['veiculos'].sum() / transito_regiao[transito_regiao['regiao'] == 'Sul']['veiculos'].sum()\n",
        "print('A probabilidade de acidentes em Santa Catarina é igual a: '+ str(round(probSC*100,2)) + '%')\n",
        "print('Total veiculos envolvidos '+ str(len(transito_regiao[transito_regiao['uf'] == 'SC'])))"
      ],
      "metadata": {
        "colab": {
          "base_uri": "https://localhost:8080/"
        },
        "id": "s8nhsMjZJY1X",
        "outputId": "ba262268-6255-485b-817d-7e66d50b6051"
      },
      "execution_count": null,
      "outputs": [
        {
          "output_type": "stream",
          "name": "stdout",
          "text": [
            "A probabilidade de acidentes em Santa Catarina é igual a: 40.34%\n",
            "Total veiculos envolvidos 3836\n"
          ]
        }
      ]
    },
    {
      "cell_type": "code",
      "source": [
        "probRS = transito_regiao[(transito_regiao['regiao'] == 'Sul') & (transito_regiao['uf'] == 'RS')]['veiculos'].sum() / transito_regiao[transito_regiao['regiao'] == 'Sul']['veiculos'].sum()\n",
        "print('A probabilidade de acidentes no Rio Grande do Sul é igual a: '+ str(round(probRS*100,2)) + '%')\n",
        "print('Total veiculos envolvidos '+ str(len(transito_regiao[transito_regiao['uf'] == 'RS'])))"
      ],
      "metadata": {
        "colab": {
          "base_uri": "https://localhost:8080/"
        },
        "id": "eiHi0RJpJevy",
        "outputId": "707da248-b24d-459e-a5fd-0e3982e1b6df"
      },
      "execution_count": null,
      "outputs": [
        {
          "output_type": "stream",
          "name": "stdout",
          "text": [
            "A probabilidade de acidentes no Rio Grande do Sul é igual a: 25.1%\n",
            "Total veiculos envolvidos 2525\n"
          ]
        }
      ]
    },
    {
      "cell_type": "markdown",
      "source": [
        "**ANALISE POR UF (REGIÃO SUDESTE)**"
      ],
      "metadata": {
        "id": "T3FRwinALvtg"
      }
    },
    {
      "cell_type": "code",
      "source": [
        "probRJ = transito_regiao[(transito_regiao['regiao'] == 'Sudeste') & (transito_regiao['uf'] == 'RJ')]['veiculos'].sum() / transito_regiao[transito_regiao['regiao'] == 'Sudeste']['veiculos'].sum()\n",
        "print('A probabilidade de acidentes no  Rio de Janeiro é igual a: '+ str(round(probRJ*100,2)) + '%')\n",
        "print('Total veiculos envolvidos '+ str(len(transito_regiao[transito_regiao['uf'] == 'RJ'])))"
      ],
      "metadata": {
        "id": "hw2qBJ1z5ciU",
        "colab": {
          "base_uri": "https://localhost:8080/"
        },
        "outputId": "c27180a0-3d31-4855-8f4f-069743853e19"
      },
      "execution_count": null,
      "outputs": [
        {
          "output_type": "stream",
          "name": "stdout",
          "text": [
            "A probabilidade de acidentes no  Rio de Janeiro é igual a: 25.77%\n",
            "Total veiculos envolvidos 2601\n"
          ]
        }
      ]
    },
    {
      "cell_type": "code",
      "source": [
        "probSP = transito_regiao[(transito_regiao['regiao'] == 'Sudeste') & (transito_regiao['uf'] == 'SP')]['veiculos'].sum() / transito_regiao[transito_regiao['regiao'] == 'Sudeste']['veiculos'].sum()\n",
        "print('A probabilidade de acidentes em São Paulo é igual a: '+ str(round(probSP*100,2)) + '%')\n",
        "print('Total veiculos envolvidos '+ str(len(transito_regiao[transito_regiao['uf'] == 'SP'])))"
      ],
      "metadata": {
        "colab": {
          "base_uri": "https://localhost:8080/"
        },
        "id": "vNDvjHaCKU9v",
        "outputId": "6b206d66-32f8-4480-b5d3-134ab98103d1"
      },
      "execution_count": null,
      "outputs": [
        {
          "output_type": "stream",
          "name": "stdout",
          "text": [
            "A probabilidade de acidentes em São Paulo é igual a: 23.14%\n",
            "Total veiculos envolvidos 2281\n"
          ]
        }
      ]
    },
    {
      "cell_type": "code",
      "source": [
        "probES = transito_regiao[(transito_regiao['regiao'] == 'Sudeste') & (transito_regiao['uf'] == 'ES')]['veiculos'].sum() / transito_regiao[transito_regiao['regiao'] == 'Sudeste']['veiculos'].sum()\n",
        "print('A probabilidade de acidentes no Espirito Santo é igual a: '+ str(round(probES*100,2)) + '%')\n",
        "print('Total veiculos envolvidos '+ str(len(transito_regiao[transito_regiao['uf'] == 'ES'])))"
      ],
      "metadata": {
        "colab": {
          "base_uri": "https://localhost:8080/"
        },
        "id": "iAhK9_FaKZtk",
        "outputId": "f16ade6f-cbd5-4a93-d73a-b2f14c969be7"
      },
      "execution_count": null,
      "outputs": [
        {
          "output_type": "stream",
          "name": "stdout",
          "text": [
            "A probabilidade de acidentes no Espirito Santo é igual a: 11.23%\n",
            "Total veiculos envolvidos 1090\n"
          ]
        }
      ]
    },
    {
      "cell_type": "code",
      "source": [
        "probMG = transito_regiao[(transito_regiao['regiao'] == 'Sudeste') & (transito_regiao['uf'] == 'MG')]['veiculos'].sum() / transito_regiao[transito_regiao['regiao'] == 'Sudeste']['veiculos'].sum()\n",
        "print('A probabilidade de acidentes em Minas Gerais é igual a: '+ str(round(probMG*100,2)) + '%')\n",
        "print('Total veiculos envolvidos '+ str(len(transito_regiao[transito_regiao['uf'] == 'MG'])))"
      ],
      "metadata": {
        "id": "WbMGUHYOKfb_"
      },
      "execution_count": null,
      "outputs": []
    },
    {
      "cell_type": "markdown",
      "source": [
        "**ANALISE POR UF (REGIÃO CENTRO OESTE)**"
      ],
      "metadata": {
        "id": "BdLZICDNClDy"
      }
    },
    {
      "cell_type": "code",
      "source": [
        "probGO = transito_regiao[(transito_regiao['regiao'] == 'Centro-Oeste') & (transito_regiao['uf'] == 'GO')]['veiculos'].sum() / transito_regiao[transito_regiao['regiao'] == 'Centro-Oeste']['veiculos'].sum()\n",
        "print('A probabilidade de acidentes em Goais é igual a: '+ str(round(probGO*100,2)) + '%')\n",
        "print('Total veiculos envolvidos '+ str(len(transito_regiao[transito_regiao['uf'] == 'GO'])))"
      ],
      "metadata": {
        "colab": {
          "base_uri": "https://localhost:8080/"
        },
        "id": "imcAdaanCn3c",
        "outputId": "0657b79a-8007-47b9-f3b6-6378169b726c"
      },
      "execution_count": null,
      "outputs": [
        {
          "output_type": "stream",
          "name": "stdout",
          "text": [
            "A probabilidade de acidentes em Goais é igual a: 38.01%\n",
            "Total veiculos envolvidos 1479\n"
          ]
        }
      ]
    },
    {
      "cell_type": "code",
      "source": [
        "probMT = transito_regiao[(transito_regiao['regiao'] == 'Centro-Oeste') & (transito_regiao['uf'] == 'MT')]['veiculos'].sum() / transito_regiao[transito_regiao['regiao'] == 'Centro-Oeste']['veiculos'].sum()\n",
        "print('A probabilidade de acidentes em Mato Grosso é igual a: '+ str(round(probMT*100,2)) + '%')\n",
        "print('Total veiculos envolvidos '+ str(len(transito_regiao[transito_regiao['uf'] == 'MT'])))"
      ],
      "metadata": {
        "colab": {
          "base_uri": "https://localhost:8080/"
        },
        "id": "YJE9PptBEWq0",
        "outputId": "25f92178-8c46-4095-95f4-a6746add6dfe"
      },
      "execution_count": null,
      "outputs": [
        {
          "output_type": "stream",
          "name": "stdout",
          "text": [
            "A probabilidade de acidentes em Mato Grosso é igual a: 28.78%\n",
            "Total veiculos envolvidos 1072\n"
          ]
        }
      ]
    },
    {
      "cell_type": "code",
      "source": [
        "probMS = transito_regiao[(transito_regiao['regiao'] == 'Centro-Oeste') & (transito_regiao['uf'] == 'MS')]['veiculos'].sum() / transito_regiao[transito_regiao['regiao'] == 'Centro-Oeste']['veiculos'].sum()\n",
        "print('A probabilidade de acidentes em Mato Grosso do Sul é igual a: '+ str(round(probMS*100,2)) + '%')\n",
        "print('Total veiculos envolvidos '+ str(len(transito_regiao[transito_regiao['uf'] == 'MS'])))"
      ],
      "metadata": {
        "colab": {
          "base_uri": "https://localhost:8080/"
        },
        "id": "Qk7JtwlsEgjN",
        "outputId": "89fd5718-8ab5-4490-f9a7-885a68a3d53f"
      },
      "execution_count": null,
      "outputs": [
        {
          "output_type": "stream",
          "name": "stdout",
          "text": [
            "A probabilidade de acidentes em Mato Grosso do Sul é igual a: 20.12%\n",
            "Total veiculos envolvidos 807\n"
          ]
        }
      ]
    },
    {
      "cell_type": "code",
      "source": [
        "probDF = transito_regiao[(transito_regiao['regiao'] == 'Centro-Oeste') & (transito_regiao['uf'] == 'DF')]['veiculos'].sum() / transito_regiao[transito_regiao['regiao'] == 'Centro-Oeste']['veiculos'].sum()\n",
        "print('A probabilidade de acidentes em Distrito Federal é igual a: '+ str(round(probDF*100,2)) + '%')\n",
        "print('Total veiculos envolvidos '+ str(len(transito_regiao[transito_regiao['uf'] == 'DF'])))"
      ],
      "metadata": {
        "id": "sr9PSxY4EyfZ"
      },
      "execution_count": null,
      "outputs": []
    },
    {
      "cell_type": "markdown",
      "source": [
        "**ANALISE POR UF (REGIÃO NORTE)**"
      ],
      "metadata": {
        "id": "ZHvETtBYL4BT"
      }
    },
    {
      "cell_type": "code",
      "source": [
        "probAC = transito_regiao[(transito_regiao['regiao'] == 'Norte') & (transito_regiao['uf'] == 'AC')]['veiculos'].sum()/ transito_regiao[transito_regiao['regiao'] == 'Norte']['veiculos'].sum()\n",
        "print('A probabilidade de acidentes no Acre é igual a: '+ str(round(probAC*100,2)) + '%')\n",
        "print('Total veiculos envolvidos '+ str(len(transito_regiao[transito_regiao['uf'] == 'AC'])))"
      ],
      "metadata": {
        "colab": {
          "base_uri": "https://localhost:8080/"
        },
        "id": "WULT7hHPKodY",
        "outputId": "6b58a555-588e-46fc-e721-f055e25d367d"
      },
      "execution_count": null,
      "outputs": [
        {
          "output_type": "stream",
          "name": "stdout",
          "text": [
            "A probabilidade de acidentes no Acre é igual a: 5.5%\n",
            "Total veiculos envolvidos 97\n"
          ]
        }
      ]
    },
    {
      "cell_type": "code",
      "source": [
        "probAP = transito_regiao[(transito_regiao['regiao'] == 'Norte') & (transito_regiao['uf'] == 'AP')]['veiculos'].sum()/ transito_regiao[transito_regiao['regiao'] == 'Norte']['veiculos'].sum()\n",
        "print('A probabilidade de acidentes no Amapa é igual a: '+ str(round(probAP*100,2)) + '%')\n",
        "print('Total veiculos envolvidos '+ str(len(transito_regiao[transito_regiao['uf'] == 'AP'])))"
      ],
      "metadata": {
        "colab": {
          "base_uri": "https://localhost:8080/"
        },
        "id": "PHMLG61iKsHi",
        "outputId": "036c5ce2-cc59-4f36-a3ee-60f692dde253"
      },
      "execution_count": null,
      "outputs": [
        {
          "output_type": "stream",
          "name": "stdout",
          "text": [
            "A probabilidade de acidentes no Amapa é igual a: 3.87%\n",
            "Total veiculos envolvidos 67\n"
          ]
        }
      ]
    },
    {
      "cell_type": "code",
      "source": [
        "probAM = transito_regiao[(transito_regiao['regiao'] == 'Norte') & (transito_regiao['uf'] == 'AM')]['veiculos'].sum()/ transito_regiao[transito_regiao['regiao'] == 'Norte']['veiculos'].sum()\n",
        "print('A probabilidade de acidentes no Amazonas é igual a: '+ str(round(probAM*100,2)) + '%')\n",
        "print('Total veiculos envolvidos '+ str(len(transito_regiao[transito_regiao['uf'] == 'AM'])))"
      ],
      "metadata": {
        "colab": {
          "base_uri": "https://localhost:8080/"
        },
        "id": "HEZ5KCWdKw_b",
        "outputId": "476c45c3-be07-432e-acf6-a44ccdf5d7fa"
      },
      "execution_count": null,
      "outputs": [
        {
          "output_type": "stream",
          "name": "stdout",
          "text": [
            "A probabilidade de acidentes no Amazonas é igual a: 2.49%\n",
            "Total veiculos envolvidos 45\n"
          ]
        }
      ]
    },
    {
      "cell_type": "code",
      "source": [
        "probPA = transito_regiao[(transito_regiao['regiao'] == 'Norte') & (transito_regiao['uf'] == 'PA')]['veiculos'].sum()/ transito_regiao[transito_regiao['regiao'] == 'Norte']['veiculos'].sum()\n",
        "print('A probabilidade de acidentes no Para é igual a: '+ str(round(probPA*100,2)) + '%')\n",
        "print('Total veiculos envolvidos '+ str(len(transito_regiao[transito_regiao['uf'] == 'PA'])))"
      ],
      "metadata": {
        "colab": {
          "base_uri": "https://localhost:8080/"
        },
        "id": "gf4ZmQUlK3f6",
        "outputId": "4a9c5ec5-1ac5-417a-f1ba-88b2855a14f3"
      },
      "execution_count": null,
      "outputs": [
        {
          "output_type": "stream",
          "name": "stdout",
          "text": [
            "A probabilidade de acidentes no Para é igual a: 24.78%\n",
            "Total veiculos envolvidos 415\n"
          ]
        }
      ]
    },
    {
      "cell_type": "code",
      "source": [
        "probRO = transito_regiao[(transito_regiao['regiao'] == 'Norte') & (transito_regiao['uf'] == 'RO')]['veiculos'].sum()/ transito_regiao[transito_regiao['regiao'] == 'Norte']['veiculos'].sum()\n",
        "print('A probabilidade de acidentes no Rondonia é igual a: '+ str(round(probRO*100,2)) + '%')\n",
        "print('Total veiculos envolvidos '+ str(len(transito_regiao[transito_regiao['uf'] == 'RO'])))"
      ],
      "metadata": {
        "colab": {
          "base_uri": "https://localhost:8080/"
        },
        "id": "8Fw52eqqLAxo",
        "outputId": "0948fc80-03fd-4beb-d621-521bf93594b2"
      },
      "execution_count": null,
      "outputs": [
        {
          "output_type": "stream",
          "name": "stdout",
          "text": [
            "A probabilidade de acidentes no Rondonia é igual a: 42.45%\n",
            "Total veiculos envolvidos 692\n"
          ]
        }
      ]
    },
    {
      "cell_type": "code",
      "source": [
        "probRR = transito_regiao[(transito_regiao['regiao'] == 'Norte') & (transito_regiao['uf'] == 'RR')]['veiculos'].sum()/ transito_regiao[transito_regiao['regiao'] == 'Norte']['veiculos'].sum()\n",
        "print('A probabilidade de acidentes em Roraima é igual a: '+ str(round(probRR*100,2)) + '%')\n",
        "print('Total veiculos envolvidos '+ str(len(transito_regiao[transito_regiao['uf'] == 'RR'])))"
      ],
      "metadata": {
        "colab": {
          "base_uri": "https://localhost:8080/"
        },
        "id": "6SPpKMZiLFQj",
        "outputId": "b7a666c7-52e2-40a5-9955-aa846fece7b5"
      },
      "execution_count": null,
      "outputs": [
        {
          "output_type": "stream",
          "name": "stdout",
          "text": [
            "A probabilidade de acidentes em Roraima é igual a: 3.98%\n",
            "Total veiculos envolvidos 78\n"
          ]
        }
      ]
    },
    {
      "cell_type": "code",
      "source": [
        "probTO = transito_regiao[(transito_regiao['regiao'] == 'Norte') & (transito_regiao['uf'] == 'TO')]['veiculos'].sum()/ transito_regiao[transito_regiao['regiao'] == 'Norte']['veiculos'].sum()\n",
        "print('A probabilidade de acidentes no Tocatins é igual a: '+ str(round(probTO*100,2)) + '%')\n",
        "print('Total veiculos envolvidos '+ str(len(transito_regiao[transito_regiao['uf'] == 'TO'])))"
      ],
      "metadata": {
        "colab": {
          "base_uri": "https://localhost:8080/"
        },
        "id": "1DV_OBYQLLpp",
        "outputId": "363712d8-af21-4292-c63f-31ed6f7f6ff6"
      },
      "execution_count": null,
      "outputs": [
        {
          "output_type": "stream",
          "name": "stdout",
          "text": [
            "A probabilidade de acidentes no Tocatins é igual a: 16.94%\n",
            "Total veiculos envolvidos 296\n"
          ]
        }
      ]
    },
    {
      "cell_type": "markdown",
      "source": [
        "**ANALISE POR UF (REGIÃO NORDESTE)**"
      ],
      "metadata": {
        "id": "Hvxq4Me6LPkn"
      }
    },
    {
      "cell_type": "code",
      "source": [
        "probAL = transito_regiao[(transito_regiao['regiao'] == 'Nordeste') & (transito_regiao['uf'] == 'AL')]['veiculos'].sum()/ transito_regiao[transito_regiao['regiao'] == 'Nordeste']['veiculos'].sum()\n",
        "print('A probabilidade de acidentes em Alagoas Tocatins é igual a: '+ str(round(probAL*100,2)) + '%')\n",
        "print('Total veiculos envolvidos '+ str(len(transito_regiao[transito_regiao['uf'] == 'AL'])))"
      ],
      "metadata": {
        "id": "fkFsq_Ql5cyD",
        "colab": {
          "base_uri": "https://localhost:8080/"
        },
        "outputId": "0c8be103-7754-4e00-a201-7dad6c2c6141"
      },
      "execution_count": null,
      "outputs": [
        {
          "output_type": "stream",
          "name": "stdout",
          "text": [
            "A probabilidade de acidentes em Alagoas Tocatins é igual a: 4.12%\n",
            "Total veiculos envolvidos 303\n"
          ]
        }
      ]
    },
    {
      "cell_type": "code",
      "source": [
        "probBA = transito_regiao[(transito_regiao['regiao'] == 'Nordeste') & (transito_regiao['uf'] == 'BA')]['veiculos'].sum()/ transito_regiao[transito_regiao['regiao'] == 'Nordeste']['veiculos'].sum()\n",
        "print('Total veiculos envolvidos '+ str(len(transito_regiao[transito_regiao['uf'] == 'BA'])))\n",
        "print('A probabilidade de acidentes na Bahia é igual a: '+ str(round(probBA*100,2)) + '%')"
      ],
      "metadata": {
        "colab": {
          "base_uri": "https://localhost:8080/"
        },
        "id": "dVH8suv0MJdV",
        "outputId": "537f66f8-82ab-445e-e387-25b72dd87b56"
      },
      "execution_count": null,
      "outputs": [
        {
          "output_type": "stream",
          "name": "stdout",
          "text": [
            "Total veiculos envolvidos 1733\n",
            "A probabilidade de acidentes na Bahia é igual a: 25.27%\n"
          ]
        }
      ]
    },
    {
      "cell_type": "code",
      "source": [
        "probCE = transito_regiao[(transito_regiao['regiao'] == 'Nordeste') & (transito_regiao['uf'] == 'CE')]['veiculos'].sum()/ transito_regiao[transito_regiao['regiao'] == 'Nordeste']['veiculos'].sum()\n",
        "print('Total veiculos envolvidos '+ str(len(transito_regiao[transito_regiao['uf'] == 'CE'])))\n",
        "print('A probabilidade de acidentes no Ceara é igual a: '+ str(round(probCE*100,2)) + '%')"
      ],
      "metadata": {
        "colab": {
          "base_uri": "https://localhost:8080/"
        },
        "id": "Pt-BdP1-MO_O",
        "outputId": "16d091a1-1532-4e4d-c65d-64b9f8e014bb"
      },
      "execution_count": null,
      "outputs": [
        {
          "output_type": "stream",
          "name": "stdout",
          "text": [
            "Total veiculos envolvidos 639\n",
            "A probabilidade de acidentes no Ceara é igual a: 9.85%\n"
          ]
        }
      ]
    },
    {
      "cell_type": "code",
      "source": [
        "probMA = transito_regiao[(transito_regiao['regiao'] == 'Nordeste') & (transito_regiao['uf'] == 'MA')]['veiculos'].sum()/ transito_regiao[transito_regiao['regiao'] == 'Nordeste']['veiculos'].sum()\n",
        "print('Total veiculos envolvidos '+ str(len(transito_regiao[transito_regiao['uf'] == 'MA'])))\n",
        "print('A probabilidade de acidentes no Maranhão é igual a: '+ str(round(probMA*100,2)) + '%')"
      ],
      "metadata": {
        "colab": {
          "base_uri": "https://localhost:8080/"
        },
        "id": "Iw2poHFFMSsU",
        "outputId": "6b5c11da-4f56-4b3d-9620-2494eb7afd75"
      },
      "execution_count": null,
      "outputs": [
        {
          "output_type": "stream",
          "name": "stdout",
          "text": [
            "Total veiculos envolvidos 527\n",
            "A probabilidade de acidentes no Maranhão é igual a: 7.81%\n"
          ]
        }
      ]
    },
    {
      "cell_type": "code",
      "source": [
        "probPB = transito_regiao[(transito_regiao['regiao'] == 'Nordeste') & (transito_regiao['uf'] == 'PB')]['veiculos'].sum()/ transito_regiao[transito_regiao['regiao'] == 'Nordeste']['veiculos'].sum()\n",
        "print('Total veiculos envolvidos '+ str(len(transito_regiao[transito_regiao['uf'] == 'PB'])))\n",
        "print('A probabilidade de acidentes na Paraíba é igual a: '+ str(round(probPB*100,2)) + '%')"
      ],
      "metadata": {
        "colab": {
          "base_uri": "https://localhost:8080/"
        },
        "id": "61kc-m0YMdMK",
        "outputId": "03df9b8e-8883-4749-8f18-b80e698cb9c4"
      },
      "execution_count": null,
      "outputs": [
        {
          "output_type": "stream",
          "name": "stdout",
          "text": [
            "Total veiculos envolvidos 745\n",
            "A probabilidade de acidentes na Paraíba é igual a: 10.58%\n"
          ]
        }
      ]
    },
    {
      "cell_type": "code",
      "source": [
        "probPE = transito_regiao[(transito_regiao['regiao'] == 'Nordeste') & (transito_regiao['uf'] == 'PE')]['veiculos'].sum()/ transito_regiao[transito_regiao['regiao'] == 'Nordeste']['veiculos'].sum()\n",
        "print('Total veiculos envolvidos '+ str(len(transito_regiao[transito_regiao['uf'] == 'PE'])))\n",
        "print('A probabilidade de acidentes em Pernambuco é igual a: '+ str(round(probPE*100,2)) + '%') #con"
      ],
      "metadata": {
        "id": "3c4SGOHn5cpp",
        "colab": {
          "base_uri": "https://localhost:8080/"
        },
        "outputId": "171ee3a5-ac27-4535-d236-3fe9803c5fcc"
      },
      "execution_count": null,
      "outputs": [
        {
          "output_type": "stream",
          "name": "stdout",
          "text": [
            "Total veiculos envolvidos 1437\n",
            "A probabilidade de acidentes em Pernambuco é igual a: 20.99%\n"
          ]
        }
      ]
    },
    {
      "cell_type": "code",
      "source": [
        "probPI = transito_regiao[(transito_regiao['regiao'] == 'Nordeste') & (transito_regiao['uf'] == 'PI')]['veiculos'].sum()/ transito_regiao[transito_regiao['regiao'] == 'Nordeste']['veiculos'].sum()\n",
        "print('Total veiculos envolvidos '+ str(len(transito_regiao[transito_regiao['uf'] == 'PI'])))\n",
        "print('A probabilidade de acidentes no Piaui é igual a: '+ str(round(probPI*100,2)) + '%')"
      ],
      "metadata": {
        "colab": {
          "base_uri": "https://localhost:8080/"
        },
        "id": "Q-gaR2-rMjmT",
        "outputId": "8e7e12fc-220a-4c40-8b1c-4a2a654fba7b"
      },
      "execution_count": null,
      "outputs": [
        {
          "output_type": "stream",
          "name": "stdout",
          "text": [
            "Total veiculos envolvidos 557\n",
            "A probabilidade de acidentes no Piaui é igual a: 8.08%\n"
          ]
        }
      ]
    },
    {
      "cell_type": "code",
      "source": [
        "probRN = transito_regiao[(transito_regiao['regiao'] == 'Nordeste') & (transito_regiao['uf'] == 'RN')]['veiculos'].sum()/ transito_regiao[transito_regiao['regiao'] == 'Nordeste']['veiculos'].sum()\n",
        "print('Total veiculos envolvidos '+ str(len(transito_regiao[transito_regiao['uf'] == 'RN'])))\n",
        "print('A probabilidade de acidentes no Rio Grande do Norte é igual a: '+ str(round(probRN*100,2)) + '%')"
      ],
      "metadata": {
        "colab": {
          "base_uri": "https://localhost:8080/"
        },
        "id": "BbMxG6wCMqau",
        "outputId": "715cd8a9-0594-471d-8f41-665853e1d521"
      },
      "execution_count": null,
      "outputs": [
        {
          "output_type": "stream",
          "name": "stdout",
          "text": [
            "Total veiculos envolvidos 652\n",
            "A probabilidade de acidentes no Rio Grande do Norte é igual a: 9.86%\n"
          ]
        }
      ]
    },
    {
      "cell_type": "code",
      "source": [
        "probSE = transito_regiao[(transito_regiao['regiao'] == 'Nordeste') & (transito_regiao['uf'] == 'SE')]['veiculos'].sum()/ transito_regiao[transito_regiao['regiao'] == 'Nordeste']['veiculos'].sum()\n",
        "print('Total veiculos envolvidos '+ str(len(transito_regiao[transito_regiao['uf'] == 'SE'])))\n",
        "print('A probabilidade de acidentes no Sergipe é igual a: '+ str(round(probSE*100,2)) + '%')"
      ],
      "metadata": {
        "colab": {
          "base_uri": "https://localhost:8080/"
        },
        "id": "3JLYIFREMzkb",
        "outputId": "5cbb6ad4-754d-4c2f-d0b7-26fdfd460932"
      },
      "execution_count": null,
      "outputs": [
        {
          "output_type": "stream",
          "name": "stdout",
          "text": [
            "Total veiculos envolvidos 259\n",
            "A probabilidade de acidentes no Sergipe é igual a: 3.44%\n"
          ]
        }
      ]
    },
    {
      "cell_type": "markdown",
      "source": [
        "# **Probabilidade da União**"
      ],
      "metadata": {
        "id": "kNsnyASnNEoj"
      }
    },
    {
      "cell_type": "markdown",
      "source": [
        "\n",
        "**Calculo da probabilidade da união entre 'feridos leves' e 'feridos graves'**"
      ],
      "metadata": {
        "id": "F_SCEYIpWMMI"
      }
    },
    {
      "cell_type": "code",
      "source": [
        "Feridos = len(transito[(transito['feridos_leves']>0) | (transito['feridos_graves']>0)])\n",
        "probFeridos = round(Feridos/len(transito), 4)\n",
        "print('A probabilidade de feridos leves ou grave em acidentes de veículos é de : '+ str(round(probFeridos*100,4)) + '%')"
      ],
      "metadata": {
        "colab": {
          "base_uri": "https://localhost:8080/"
        },
        "id": "-xzOFc7BVh5Y",
        "outputId": "67f11755-2046-467f-9178-55e43608c883"
      },
      "execution_count": null,
      "outputs": [
        {
          "output_type": "stream",
          "name": "stdout",
          "text": [
            "A probabilidade de feridos leves ou grave em acidentes de veículos é de : 79.16%\n"
          ]
        }
      ]
    },
    {
      "cell_type": "markdown",
      "source": [
        "**Calculo da probabilidade da união entre 'feridos' e 'mortos'**"
      ],
      "metadata": {
        "id": "BB69a94ebhI1"
      }
    },
    {
      "cell_type": "code",
      "source": [
        "Vitimas = len(transito[(transito['feridos']>0) | (transito['mortos']>0)])\n",
        "probVitimas = round(Vitimas/len(transito), 4)\n",
        "\n",
        "print('A probabilidade de envolvidos em acidentes de veículos ser ferido ou com morte é de : '+ str(round(probVitimas*100,4)) + '%')"
      ],
      "metadata": {
        "colab": {
          "base_uri": "https://localhost:8080/"
        },
        "id": "XeOYF36ZZ6bR",
        "outputId": "fbff1e4b-fe7d-4f32-a825-2e899d8097be"
      },
      "execution_count": null,
      "outputs": [
        {
          "output_type": "stream",
          "name": "stdout",
          "text": [
            "A probabilidade de envolvidos em acidentes de veículos ser ferido ou com morte é de : 83.69%\n"
          ]
        }
      ]
    },
    {
      "cell_type": "markdown",
      "source": [
        "# **Probabilidade da Intersecção**"
      ],
      "metadata": {
        "id": "ODrWhVT0NLSC"
      }
    },
    {
      "cell_type": "markdown",
      "source": [
        "Probabilidade de haver vítimas (feridos ou fatais) em acidentes durante o período \"Pleno dia\"."
      ],
      "metadata": {
        "id": "mgd8spRFiYhc"
      }
    },
    {
      "cell_type": "code",
      "source": [
        "Dia_Vitimas = len(transito[((transito['mortos']>0) | (transito['feridos']>0)) & (transito['fase_dia'] =='Pleno dia')])\n",
        "ProbDia_Vitimas = Dia_Vitimas/len(transito)\n",
        "print('A probabilidade de vitimas, feridos ou fatais, em acidentes em pleno dia é de : '+ str(round(ProbDia_Vitimas*100, 4)) + '%')"
      ],
      "metadata": {
        "colab": {
          "base_uri": "https://localhost:8080/"
        },
        "id": "WGSIP6G8hCp8",
        "outputId": "bd5f987c-9acc-4b04-a4c3-641b6006753e"
      },
      "execution_count": null,
      "outputs": [
        {
          "output_type": "stream",
          "name": "stdout",
          "text": [
            "A probabilidade de vitimas, feridos ou fatais, em acidentes em pleno dia é de : 46.8773%\n"
          ]
        }
      ]
    },
    {
      "cell_type": "code",
      "source": [
        "UF_Feridos = len(transito[((transito['feridos']>0) | (transito['mortos']>0)) & (transito['uf'] =='MG')])\n",
        "ProbUF_Feridos = UF_Feridos/len(transito)\n",
        "print('A probabilidade de vitimas, feridos ou fatais, em acidentes em MG é de : '+ str(round(ProbUF_Feridos*100, 4)) + '%')"
      ],
      "metadata": {
        "colab": {
          "base_uri": "https://localhost:8080/"
        },
        "id": "M3Eqaf-ch7hH",
        "outputId": "3da148ec-f1c5-4935-ad35-9e471aa8437b"
      },
      "execution_count": null,
      "outputs": [
        {
          "output_type": "stream",
          "name": "stdout",
          "text": [
            "A probabilidade de vitimas, feridos ou fatais, em acidentes em MG é de : 11.3255%\n"
          ]
        }
      ]
    },
    {
      "cell_type": "code",
      "source": [
        "Cond_meter = len(transito[((transito['feridos']>0) | (transito['mortos']>0)) & (transito['condicao_metereologica'] =='Céu Claro') & (transito['fase_dia'] =='Pleno dia') ])\n",
        "ProbCond_meter = Cond_meter/len(transito)\n",
        "print('A probabilidade de vitimas, feridos ou fatais, em acidentes com condição de tempo ceu claro, em pleno dia, é de : '+ str(round(ProbCond_meter*100, 4)) + '%')"
      ],
      "metadata": {
        "colab": {
          "base_uri": "https://localhost:8080/"
        },
        "id": "LnwxW1nqD1bw",
        "outputId": "7d6f30be-cc34-4323-996e-d51123e0657b"
      },
      "execution_count": null,
      "outputs": [
        {
          "output_type": "stream",
          "name": "stdout",
          "text": [
            "A probabilidade de vitimas, feridos ou fatais, em acidentes com condição de tempo ceu claro, em pleno dia, é de : 29.6393%\n"
          ]
        }
      ]
    },
    {
      "cell_type": "code",
      "source": [
        "Cond_meter_dia = len(transito[((transito['feridos']>0) | (transito['mortos']>0)) & (transito['condicao_metereologica'] == 'Chuva') & (transito['fase_dia'] =='Pleno dia') ])\n",
        "ProbCond_meter_dia = Cond_meter_dia /len(transito)\n",
        "print('A probabilidade de vitimas, feridos ou fatais, em acidentes com condição de tempo de chuva em pleno o dia é : '+ str(round(ProbCond_meter_dia*100, 4)) + '%')"
      ],
      "metadata": {
        "colab": {
          "base_uri": "https://localhost:8080/"
        },
        "id": "wqLotm4SSykg",
        "outputId": "7adaf0f1-8046-454c-9f4c-7dc0b97e2000"
      },
      "execution_count": null,
      "outputs": [
        {
          "output_type": "stream",
          "name": "stdout",
          "text": [
            "A probabilidade de vitimas, feridos ou fatais, em acidentes com condição de tempo de chuva em pleno o dia é : 4.6948%\n"
          ]
        }
      ]
    },
    {
      "cell_type": "code",
      "source": [
        "Cond_meter_diaSol = len(transito[((transito['feridos']>0) | (transito['mortos']>0)) & (transito['condicao_metereologica'] == 'Sol') & (transito['fase_dia'] =='Pleno dia') ])\n",
        "ProbCond_meter_diaSol = Cond_meter_diaSol /len(transito)\n",
        "print('A probabilidade de vitimas, feridos ou fatais, em acidentes com condição de tempo de sol em pleno o dia é : '+ str(round(ProbCond_meter_diaSol*100, 4)) + '%')"
      ],
      "metadata": {
        "colab": {
          "base_uri": "https://localhost:8080/"
        },
        "id": "4gTv5dLoLckc",
        "outputId": "be856981-8f13-4199-aa46-e40de56be11f"
      },
      "execution_count": null,
      "outputs": [
        {
          "output_type": "stream",
          "name": "stdout",
          "text": [
            "A probabilidade de vitimas, feridos ou fatais, em acidentes com condição de tempo de sol em pleno o dia é : 4.7534%\n"
          ]
        }
      ]
    },
    {
      "cell_type": "code",
      "source": [
        "Cond_meter_diaNublado = len(transito[((transito['feridos']>0) | (transito['mortos']>0)) & (transito['condicao_metereologica'] == 'Nublado') & (transito['fase_dia'] =='Pleno dia') ])\n",
        "ProbCond_meter_diaNublado = Cond_meter_diaNublado /len(transito)\n",
        "print('A probabilidade de vitimas, feridos ou fatais, em acidentes com condição de tempo de nublado em pleno o dia é : '+ str(round(ProbCond_meter_diaNublado*100, 4)) + '%')"
      ],
      "metadata": {
        "colab": {
          "base_uri": "https://localhost:8080/"
        },
        "id": "UmlDcScNLplQ",
        "outputId": "42a71d7b-8314-4bb0-9b7f-59e559a6b31e"
      },
      "execution_count": null,
      "outputs": [
        {
          "output_type": "stream",
          "name": "stdout",
          "text": [
            "A probabilidade de vitimas, feridos ou fatais, em acidentes com condição de tempo de nublado em pleno o dia é : 6.1159%\n"
          ]
        }
      ]
    },
    {
      "cell_type": "code",
      "source": [
        "Cond_meter_diaGaroa= len(transito[((transito['feridos']>0) | (transito['mortos']>0)) & (transito['condicao_metereologica'] == 'Garoa/Chuvisco') & (transito['fase_dia'] =='Pleno dia') ])\n",
        "ProbCond_meter_diaGaroa = Cond_meter_diaGaroa /len(transito)\n",
        "print('A probabilidade de vitimas, feridos ou fatais, em acidentes com condição de tempo de Garoa/Chuvisco em pleno o dia é : '+ str(round(ProbCond_meter_diaGaroa*100, 4)) + '%')"
      ],
      "metadata": {
        "colab": {
          "base_uri": "https://localhost:8080/"
        },
        "id": "wCx12hM2Maet",
        "outputId": "a2d01a04-9ca4-49d6-8d5b-0558cedad240"
      },
      "execution_count": null,
      "outputs": [
        {
          "output_type": "stream",
          "name": "stdout",
          "text": [
            "A probabilidade de vitimas, feridos ou fatais, em acidentes com condição de tempo de Garoa/Chuvisco em pleno o dia é : 1.2793%\n"
          ]
        }
      ]
    },
    {
      "cell_type": "markdown",
      "source": [
        "# **Probabilidade com complemento**"
      ],
      "metadata": {
        "id": "QjzBPwd2ZsTs"
      }
    },
    {
      "cell_type": "markdown",
      "source": [
        "**Probabilidade de ocorrer vítimas (feridos ou fatais) em acidentes em\n",
        " \"Pleno dia\"**"
      ],
      "metadata": {
        "id": "hGXmPJb2fq9O"
      }
    },
    {
      "cell_type": "code",
      "source": [
        "transito_vitimas_dia = transito[((transito['mortos'] > 0) | (transito['feridos'] > 0)) & (transito['fase_dia'] == 'Pleno dia')]\n",
        "total_registros = len(transito)\n",
        "acidentes_vitimas_dia = len(transito_vitimas_dia)\n",
        "ProbComp = 1 - (acidentes_vitimas_dia / total_registros)\n",
        "print('A probabilidade de acidentes em pleno dia com vitimas, feridos e fatais, é de : '+ str(round(ProbComp*100, 4)) + '%')"
      ],
      "metadata": {
        "colab": {
          "base_uri": "https://localhost:8080/"
        },
        "id": "SvuNbnkiZ3OU",
        "outputId": "becd7c71-3d76-4280-a021-711614515090"
      },
      "execution_count": null,
      "outputs": [
        {
          "output_type": "stream",
          "name": "stdout",
          "text": [
            "A probabilidade de acidentes em pleno dia com vitimas, feridos e fatais, é de : 53.1227%\n"
          ]
        }
      ]
    },
    {
      "cell_type": "code",
      "source": [
        "##acidente não ocorrer em condições noturnas.\n",
        "acidentes_noite = transito['horario'].between('06:00:00', '18:00:00')\n",
        "probNoite = acidentes_noite.mean() # Probabilidade de um acidente ocorrer à noite\n",
        "probComplementoNoite = 1 - probNoite\n",
        "print('Probabilidade do complemento (não à noite): ' + str(round(probComplementoNoite*100, 4)) + '%')\n",
        "\n"
      ],
      "metadata": {
        "colab": {
          "base_uri": "https://localhost:8080/"
        },
        "id": "GqWY3MMHu96c",
        "outputId": "a7b7d3e8-b2c9-4599-8fd0-3bde0b7fc098"
      },
      "execution_count": null,
      "outputs": [
        {
          "output_type": "stream",
          "name": "stdout",
          "text": [
            "Probabilidade do complemento (não à noite): 39.5869%\n"
          ]
        }
      ]
    },
    {
      "cell_type": "markdown",
      "source": [
        "# **Probabilidade da diferença**"
      ],
      "metadata": {
        "id": "zS9TKspZKDUV"
      }
    },
    {
      "cell_type": "code",
      "source": [
        "\n",
        "acidentes_dia = transito['horario'].between('06:00:00', '18:00:00')\n",
        "probTodos = 1 # Probabilidade de ocorrer um acidente (considerando todos os acidentes)\n",
        "probDia = acidentes_dia.mean() # Probabilidade de um acidente ocorrer durante o dia\n",
        "probDiferenca = probTodos - probDia\n",
        "print('A probabilidade da diferença é: ' + str(round(probDiferenca*100, 4)) + '%')\n"
      ],
      "metadata": {
        "colab": {
          "base_uri": "https://localhost:8080/"
        },
        "id": "UbSfZGmDuh0R",
        "outputId": "e3d098f8-f7d3-4921-927d-0789e426d704"
      },
      "execution_count": null,
      "outputs": [
        {
          "output_type": "stream",
          "name": "stdout",
          "text": [
            "A probabilidade da diferença é: 39.5869%\n"
          ]
        }
      ]
    },
    {
      "cell_type": "code",
      "source": [
        "acidentes_br101 = transito['br'] == 101\n",
        "probBr101 = acidentes_br101.mean() # Probabilidade de um acidente ocorrer na BR-101\n",
        "probDiferencaBr101 = probTodos - probBr101\n",
        "print('A probabilidade da diferença (BR-101) é: ' + str(round(probDiferencaBr101*100, 4)) + '%')\n"
      ],
      "metadata": {
        "colab": {
          "base_uri": "https://localhost:8080/"
        },
        "id": "2n-xxnMHvSt7",
        "outputId": "cc884975-be9c-4f74-c710-a78bd35d06fc"
      },
      "execution_count": null,
      "outputs": [
        {
          "output_type": "stream",
          "name": "stdout",
          "text": [
            "A probabilidade da diferença (BR-101) é: 82.5801%\n"
          ]
        }
      ]
    },
    {
      "cell_type": "code",
      "source": [
        "acidentes_chuva = transito['causa_acidente'].str.contains(\"chuva\", case=False, na=False)\n",
        "probChuva = acidentes_chuva.mean()\n",
        "probDiferencaChuva = probTodos - probChuva\n",
        "print('A probabilidade da diferença de ocorrer acidente sem ser na chuva é: ' + str(round(probDiferencaChuva*100, 4)) + '%')\n"
      ],
      "metadata": {
        "colab": {
          "base_uri": "https://localhost:8080/"
        },
        "id": "xai326GsyrbT",
        "outputId": "dcc9a772-be00-407b-8823-41aa66695f0d"
      },
      "execution_count": null,
      "outputs": [
        {
          "output_type": "stream",
          "name": "stdout",
          "text": [
            "A probabilidade da diferença de ocorrer acidente sem ser na chuva é: 98.3416%\n"
          ]
        }
      ]
    },
    {
      "cell_type": "markdown",
      "source": [
        "# **Probabilidade da condicional**"
      ],
      "metadata": {
        "id": "m0Xi46VCKURT"
      }
    },
    {
      "cell_type": "code",
      "source": [
        "# Probabilidade da condicional"
      ],
      "metadata": {
        "id": "D1g6CwFkKlY4"
      },
      "execution_count": null,
      "outputs": []
    },
    {
      "cell_type": "code",
      "source": [
        "probCond = ProbCond_meter_dia/probSul\n",
        "print('A probabilidade de ocorrer um acidente, durante o dia por condições de chuva na região sul : '+ str(round(probCond*100, 4)) + '%')"
      ],
      "metadata": {
        "id": "Ci_wa2SOR7iW",
        "colab": {
          "base_uri": "https://localhost:8080/"
        },
        "outputId": "b9e060a8-115e-462c-d939-af1a84100587"
      },
      "execution_count": null,
      "outputs": [
        {
          "output_type": "stream",
          "name": "stdout",
          "text": [
            "A probabilidade de ocorrer um acidente, durante o dia por condições de chuva na região sul : 15.1235%\n"
          ]
        }
      ]
    },
    {
      "cell_type": "code",
      "source": [
        "# probabilidade de um acidente ser devido à chuva, dado que aconteceu durante o dia.\n",
        "evento_chuva = transito['causa_acidente'].str.contains(\"chuva\", case=False, na=False)\n",
        "evento_dia = (transito['fase_dia'] == 'Pleno dia')\n",
        "# Calculando P(A|B)\n",
        "P_A_dado_B = transito[evento_chuva & evento_dia].shape[0] / transito[evento_dia].shape[0]\n",
        "print('A probabilidade condicional de um acidente ser devido à chuva, dado que aconteceu durante o dia: ' + str(round(P_A_dado_B*100, 4)) + '%')\n"
      ],
      "metadata": {
        "colab": {
          "base_uri": "https://localhost:8080/"
        },
        "id": "OiOoMcb_uISC",
        "outputId": "cd6040de-442f-41a0-9ce0-7145c432087d"
      },
      "execution_count": null,
      "outputs": [
        {
          "output_type": "stream",
          "name": "stdout",
          "text": [
            "A probabilidade condicional de um acidente ser devido à chuva, dado que aconteceu durante o dia: 1.7638%\n"
          ]
        }
      ]
    },
    {
      "cell_type": "code",
      "source": [
        "## acidente resultar em mortes, dado que ocorreu à noite.\n",
        "evento_mortes = transito['mortos'] > 0\n",
        "P_A_dado_B_mortes_noite = transito[evento_mortes & acidentes_noite].shape[0] / transito[acidentes_noite].shape[0]\n",
        "print('Probabilidade condicional (mortes à noite): ' + str(round(P_A_dado_B_mortes_noite*100, 4)) + '%')\n"
      ],
      "metadata": {
        "id": "evJViMz7vsas",
        "colab": {
          "base_uri": "https://localhost:8080/"
        },
        "outputId": "0ec0c15f-9cda-4232-ec7e-81acf6272bb3"
      },
      "execution_count": null,
      "outputs": [
        {
          "output_type": "stream",
          "name": "stdout",
          "text": [
            "Probabilidade condicional (mortes à noite): 5.1944%\n"
          ]
        }
      ]
    },
    {
      "cell_type": "code",
      "source": [
        "evento_morte = transito['mortos'] > 0\n",
        "acidentes_noite = transito['horario'].between('06:00:00', '18:00:00')\n",
        "P_A_dado_B_morte_noite = transito[evento_morte & acidentes_noite].shape[0] / transito[evento_morte].shape[0]\n",
        "print('Probabilidade condicional (acidente à noite dado que houve mortes): ' + str(round(P_A_dado_B_morte_noite*100, 4)) + '%')\n"
      ],
      "metadata": {
        "colab": {
          "base_uri": "https://localhost:8080/"
        },
        "id": "wJ0ieyHsyg2E",
        "outputId": "9b8c3bd7-b3fd-4469-a9f8-58b8740237bc"
      },
      "execution_count": null,
      "outputs": [
        {
          "output_type": "stream",
          "name": "stdout",
          "text": [
            "Probabilidade condicional (acidente à noite dado que houve mortes): 43.8982%\n"
          ]
        }
      ]
    },
    {
      "cell_type": "markdown",
      "source": [
        "# **Probabilidade c/ Teorema de Bayes**"
      ],
      "metadata": {
        "id": "Ro4MqndkKb1S"
      }
    },
    {
      "cell_type": "code",
      "source": [
        "# **Probabilidade da diferença**"
      ],
      "metadata": {
        "id": "OVs6JZh-Kg5G"
      },
      "execution_count": null,
      "outputs": []
    },
    {
      "cell_type": "code",
      "source": [
        "evento_dia = (transito['horario'] >= '06:00:00') & (transito['horario'] <= '18:00:00')\n",
        "evento_sul = transito['uf'].isin(['PR', 'SC', 'RS'])\n",
        "P_A = evento_dia.mean() # Probabilidade a priori de um acidente ocorrer durante o dia\n",
        "P_B = evento_sul.mean() # Probabilidade total de um acidente ocorrer na região Sul\n",
        "P_B_dado_A = transito[evento_dia & evento_sul].shape[0] / transito[evento_dia].shape[0] # Probabilidade de acidente na Sul dado que é dia\n",
        "P_A_dado_B = (P_B_dado_A * P_A) / P_B # Aplicando o Teorema de Bayes\n",
        "print('A probabilidade, pelo Teorema de Bayes, de acidente na Sul dado que é dia: ' + str(round(P_A_dado_B*100, 4)) + '%')\n"
      ],
      "metadata": {
        "colab": {
          "base_uri": "https://localhost:8080/"
        },
        "id": "vqy_9TzBupDx",
        "outputId": "88950b52-586e-44a8-8e65-a8b51de1d494"
      },
      "execution_count": null,
      "outputs": [
        {
          "output_type": "stream",
          "name": "stdout",
          "text": [
            "A probabilidade, pelo Teorema de Bayes, de acidente na Sul dado que é dia: 59.6618%\n"
          ]
        }
      ]
    },
    {
      "cell_type": "code",
      "source": [
        "evento_feridos_graves = transito['feridos_graves'] > 0\n",
        "P_A_br101 = acidentes_br101.mean() # Probabilidade a priori de um acidente ocorrer na BR-101\n",
        "P_B_feridos_graves = evento_feridos_graves.mean() # Probabilidade total de um acidente resultar em feridos graves\n",
        "P_B_dado_A_br101 = transito[acidentes_br101 & evento_feridos_graves].shape[0] / transito[acidentes_br101].shape[0] # Probabilidade de feridos graves dado que é na BR-101\n",
        "P_A_dado_B_br101 = (P_B_dado_A_br101 * P_A_br101) / P_B_feridos_graves # Aplicando o Teorema de Bayes\n",
        "print('Probabilidade (BR-101 e feridos graves): ' + str(round(P_A_dado_B_br101*100, 4)) + '%')\n"
      ],
      "metadata": {
        "colab": {
          "base_uri": "https://localhost:8080/"
        },
        "id": "4KPOWK17vXgv",
        "outputId": "e0f2d0cb-0c02-429d-b8e3-860067d649e5"
      },
      "execution_count": null,
      "outputs": [
        {
          "output_type": "stream",
          "name": "stdout",
          "text": [
            "Probabilidade (BR-101 e feridos graves): 16.8639%\n"
          ]
        }
      ]
    },
    {
      "cell_type": "markdown",
      "source": [
        "# OUTROS\n"
      ],
      "metadata": {
        "id": "gs5IYUhOJEXO"
      }
    },
    {
      "cell_type": "markdown",
      "source": [
        "**Probabilidade do tipo de acidentes pela condição metereologica**"
      ],
      "metadata": {
        "id": "tzUtzoS1V3w7"
      }
    },
    {
      "cell_type": "markdown",
      "source": [],
      "metadata": {
        "id": "EXR77rWgKNm5"
      }
    },
    {
      "cell_type": "code",
      "source": [
        "\n",
        "total_registros = len(transito)\n",
        "# Qtd de registros para cada combinação do tipo de acidente vs condicoes metereologica\n",
        "cont_combinacoes = transito.groupby(['tipo_acidente', 'condicao_metereologica']).size().reset_index(name='contagem')\n",
        "\n",
        "cont_combinacoes['probabilidade'] = (cont_combinacoes['contagem'] / total_registros) * 100 # Calculo da probabilidade de interseção\n",
        "print(cont_combinacoes)"
      ],
      "metadata": {
        "colab": {
          "base_uri": "https://localhost:8080/"
        },
        "id": "tZtNdnDKT2Je",
        "outputId": "36ad6e8e-3626-4ed0-ad6d-94cc7233a220"
      },
      "execution_count": null,
      "outputs": [
        {
          "output_type": "stream",
          "name": "stdout",
          "text": [
            "               tipo_acidente condicao_metereologica  contagem  probabilidade\n",
            "0    Atropelamento de Animal                  Chuva        20       0.061652\n",
            "1    Atropelamento de Animal              Céu Claro       356       1.097411\n",
            "2    Atropelamento de Animal         Garoa/Chuvisco        11       0.033909\n",
            "3    Atropelamento de Animal               Ignorado        12       0.036991\n",
            "4    Atropelamento de Animal       Nevoeiro/Neblina         3       0.009248\n",
            "..                       ...                    ...       ...            ...\n",
            "120               Tombamento               Ignorado        51       0.157213\n",
            "121               Tombamento       Nevoeiro/Neblina        24       0.073983\n",
            "122               Tombamento                Nublado       470       1.448829\n",
            "123               Tombamento                    Sol       182       0.561036\n",
            "124               Tombamento                  Vento         8       0.024661\n",
            "\n",
            "[125 rows x 4 columns]\n"
          ]
        }
      ]
    },
    {
      "cell_type": "markdown",
      "source": [
        "**Probabilidade do tipo de acidentes pela classificação de acidentes**"
      ],
      "metadata": {
        "id": "-i8enuTqe5r4"
      }
    },
    {
      "cell_type": "code",
      "source": [
        "# Configurar a exibição para mostrar todas as colunas sem quebrar a linha\n",
        "pd.set_option('display.max_columns', None)"
      ],
      "metadata": {
        "id": "QXARfXAcfPAx"
      },
      "execution_count": null,
      "outputs": []
    },
    {
      "cell_type": "code",
      "source": [
        "total_registros = len(transito)\n",
        "# Qtd de registros para cada combinação do tipo de acidente vs condicoes metereologica\n",
        "cont_combinacoes = transito.groupby(['tipo_acidente', 'classificacao_acidente']).size().reset_index(name='contagem')\n",
        "\n",
        "cont_combinacoes['probabilidade'] = (cont_combinacoes['contagem'] / total_registros) * 100 # Calculo da probabilidade de interseção\n",
        "print(cont_combinacoes)"
      ],
      "metadata": {
        "colab": {
          "base_uri": "https://localhost:8080/"
        },
        "id": "CrDFTOQQU3UR",
        "outputId": "b0097c28-a05b-4bdf-d5a4-7ddde94e5374"
      },
      "execution_count": null,
      "outputs": [
        {
          "output_type": "stream",
          "name": "stdout",
          "text": [
            "                     tipo_acidente classificacao_acidente  contagem  \\\n",
            "0          Atropelamento de Animal     Com Vítimas Fatais        42   \n",
            "1          Atropelamento de Animal    Com Vítimas Feridas       398   \n",
            "2          Atropelamento de Animal            Sem Vítimas        85   \n",
            "3        Atropelamento de Pedestre     Com Vítimas Fatais       411   \n",
            "4        Atropelamento de Pedestre    Com Vítimas Feridas      1078   \n",
            "5        Atropelamento de Pedestre            Sem Vítimas        18   \n",
            "6                      Capotamento     Com Vítimas Fatais        22   \n",
            "7                      Capotamento    Com Vítimas Feridas       548   \n",
            "8                      Capotamento            Sem Vítimas       129   \n",
            "9               Colisão com objeto     Com Vítimas Fatais       117   \n",
            "10              Colisão com objeto    Com Vítimas Feridas      1649   \n",
            "11              Colisão com objeto            Sem Vítimas       642   \n",
            "12                 Colisão frontal     Com Vítimas Fatais       654   \n",
            "13                 Colisão frontal    Com Vítimas Feridas      1432   \n",
            "14                 Colisão frontal            Sem Vítimas       136   \n",
            "15   Colisão lateral mesmo sentido     Com Vítimas Fatais        91   \n",
            "16   Colisão lateral mesmo sentido    Com Vítimas Feridas      2665   \n",
            "17   Colisão lateral mesmo sentido            Sem Vítimas       496   \n",
            "18  Colisão lateral sentido oposto     Com Vítimas Fatais        80   \n",
            "19  Colisão lateral sentido oposto    Com Vítimas Feridas       684   \n",
            "20  Colisão lateral sentido oposto            Sem Vítimas       199   \n",
            "21             Colisão transversal     Com Vítimas Fatais       178   \n",
            "22             Colisão transversal    Com Vítimas Feridas      3514   \n",
            "23             Colisão transversal            Sem Vítimas       391   \n",
            "24                Colisão traseira     Com Vítimas Fatais       242   \n",
            "25                Colisão traseira    Com Vítimas Feridas      4917   \n",
            "26                Colisão traseira            Sem Vítimas      1020   \n",
            "27           Derramamento de carga     Com Vítimas Fatais         1   \n",
            "28           Derramamento de carga    Com Vítimas Feridas        17   \n",
            "29           Derramamento de carga            Sem Vítimas        38   \n",
            "30                   Engavetamento     Com Vítimas Fatais        14   \n",
            "31                   Engavetamento    Com Vítimas Feridas       426   \n",
            "32                   Engavetamento            Sem Vítimas       126   \n",
            "33                Eventos atípicos     Com Vítimas Fatais         8   \n",
            "34                Eventos atípicos    Com Vítimas Feridas        81   \n",
            "35                Eventos atípicos            Sem Vítimas        50   \n",
            "36                        Incêndio     Com Vítimas Fatais         1   \n",
            "37                        Incêndio    Com Vítimas Feridas        14   \n",
            "38                        Incêndio            Sem Vítimas       617   \n",
            "39    Queda de ocupante de veículo     Com Vítimas Fatais        50   \n",
            "40    Queda de ocupante de veículo    Com Vítimas Feridas      1427   \n",
            "41    Queda de ocupante de veículo            Sem Vítimas        23   \n",
            "42       Saída de leito carroçável     Com Vítimas Fatais       285   \n",
            "43       Saída de leito carroçável    Com Vítimas Feridas      3537   \n",
            "44       Saída de leito carroçável            Sem Vítimas      1139   \n",
            "45                      Tombamento     Com Vítimas Fatais       123   \n",
            "46                      Tombamento    Com Vítimas Feridas      2442   \n",
            "47                      Tombamento            Sem Vítimas       183   \n",
            "\n",
            "    probabilidade  \n",
            "0        0.129470  \n",
            "1        1.226880  \n",
            "2        0.262022  \n",
            "3        1.266954  \n",
            "4        3.323058  \n",
            "5        0.055487  \n",
            "6        0.067818  \n",
            "7        1.689273  \n",
            "8        0.397657  \n",
            "9        0.360666  \n",
            "10       5.083231  \n",
            "11       1.979038  \n",
            "12       2.016030  \n",
            "13       4.414303  \n",
            "14       0.419236  \n",
            "15       0.280518  \n",
            "16       8.215166  \n",
            "17       1.528977  \n",
            "18       0.246609  \n",
            "19       2.108508  \n",
            "20       0.613440  \n",
            "21       0.548705  \n",
            "22      10.832306  \n",
            "23       1.205302  \n",
            "24       0.745993  \n",
            "25      15.157213  \n",
            "26       3.144266  \n",
            "27       0.003083  \n",
            "28       0.052404  \n",
            "29       0.117139  \n",
            "30       0.043157  \n",
            "31       1.313194  \n",
            "32       0.388409  \n",
            "33       0.024661  \n",
            "34       0.249692  \n",
            "35       0.154131  \n",
            "36       0.003083  \n",
            "37       0.043157  \n",
            "38       1.901973  \n",
            "39       0.154131  \n",
            "40       4.398890  \n",
            "41       0.070900  \n",
            "42       0.878545  \n",
            "43      10.903206  \n",
            "44       3.511097  \n",
            "45       0.379162  \n",
            "46       7.527744  \n",
            "47       0.564118  \n"
          ]
        }
      ]
    },
    {
      "cell_type": "code",
      "source": [
        "# Filtrar o DataFrame para a UF específica e a classificação de acidente específica NAO DEU CERTO\n",
        "uf_especifica = 'MG'\n",
        "classificacao_especifica = 'Colisão frontal'  # Exemplo de classificação de acidente específica\n",
        "\n",
        "df_filtrado = transito[(transito['uf'] == uf_especifica) & (transito['classificacao_acidente'] == classificacao_especifica)]\n",
        "total_registros_filtrado = len(df_filtrado) # Calcular o número total de registros no DataFrame filtrado\n",
        "\n",
        "total_registros = len(transito)\n",
        "\n",
        "# Calcular a probabilidade de interseção\n",
        "probabilidade_intersecao = (total_registros_filtrado / total_registros) * 100\n",
        "\n",
        "# Imprimir a probabilidade de interseção em porcentagem\n",
        "print(f\"A probabilidade de interseção entre UF '{uf_especifica}' e classificação '{classificacao_especifica}' é de {probabilidade_intersecao:.6f}%\")"
      ],
      "metadata": {
        "colab": {
          "base_uri": "https://localhost:8080/"
        },
        "id": "oGScPfJuXWAU",
        "outputId": "f547642d-88bd-47d6-8805-5a548ca28332"
      },
      "execution_count": null,
      "outputs": [
        {
          "output_type": "stream",
          "name": "stdout",
          "text": [
            "A probabilidade de interseção entre UF 'MG' e classificação 'Colisão frontal' é de 0.000000%\n"
          ]
        }
      ]
    }
  ]
}